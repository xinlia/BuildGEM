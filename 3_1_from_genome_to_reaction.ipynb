{
 "cells": [
  {
   "attachments": {},
   "cell_type": "markdown",
   "metadata": {},
   "source": [
    "### download genome\n",
    "\n",
    "Methylomonas koyamae (702114) https://www.ncbi.nlm.nih.gov/data-hub/genome/GCF_019669905.1/\n",
    "\n",
    "Methylocystis bryophila (655015)  https://www.ncbi.nlm.nih.gov/labs/data-hub/genome/GCA_027925445.1/\n",
    "\n"
   ]
  },
  {
   "attachments": {},
   "cell_type": "markdown",
   "metadata": {},
   "source": [
    "### BLAST to KEGG\n",
    "\n",
    "upload faa to https://www.kegg.jp/blastkoala/ and blast\n",
    "\n",
    "After get the result, download the Annotation data (ko/gene list)\n",
    "\n",
    "\n",
    "  mko  https://www.kegg.jp/kegg-bin/blastkoala_result?id=0df04f64e581872e44cd9b8a9be22867c93f59aa&passwd=zMR0tc&type=blastkoala\n",
    "\n",
    "  mbry  https://www.kegg.jp/kegg-bin/blastkoala_result?id=35e8add9b98750b908462bce998b922dbc9796bc&passwd=bhYh8N&type=blastkoala\n"
   ]
  },
  {
   "cell_type": "markdown",
   "metadata": {},
   "source": []
  }
 ],
 "metadata": {
  "language_info": {
   "name": "python"
  },
  "orig_nbformat": 4
 },
 "nbformat": 4,
 "nbformat_minor": 2
}
