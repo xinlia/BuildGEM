{
 "cells": [
  {
   "cell_type": "code",
   "execution_count": 16,
   "metadata": {},
   "outputs": [
    {
     "name": "stdout",
     "output_type": "stream",
     "text": [
      "Requirement already satisfied: biopython in c:\\users\\vickenlee\\appdata\\local\\programs\\python\\python39\\lib\\site-packages (1.81)\n",
      "Requirement already satisfied: numpy in c:\\users\\vickenlee\\appdata\\local\\programs\\python\\python39\\lib\\site-packages (from biopython) (1.23.5)\n",
      "Note: you may need to restart the kernel to use updated packages.\n"
     ]
    },
    {
     "name": "stderr",
     "output_type": "stream",
     "text": [
      "\n",
      "[notice] A new release of pip is available: 23.0 -> 23.0.1\n",
      "[notice] To update, run: python.exe -m pip install --upgrade pip\n"
     ]
    }
   ],
   "source": [
    "pip install biopython\n",
    "pip install StringIO\n",
    "# https://www.tutorialspoint.com/biopython/biopython_overview_of_blast.htm"
   ]
  },
  {
   "cell_type": "code",
   "execution_count": 1,
   "metadata": {},
   "outputs": [],
   "source": [
    "org_name = 'mko'\n",
    "org_full_name = 'Methylomonas_koyamae'\n"
   ]
  },
  {
   "cell_type": "code",
   "execution_count": null,
   "metadata": {},
   "outputs": [],
   "source": [
    "''' run in terminal\n",
    "cd C:\\Users\\vickenlee\\Documents\\GitHub\\BuildGEM\\Methylomonas_koyamae_genome\\refdatabase\n",
    "makeblastdb -in GCF_002441955.1_ASM244195v1_cds_from_genomic.fna -parse_seqids -dbtype nucl -out refgeneDB\n",
    "'''"
   ]
  },
  {
   "cell_type": "code",
   "execution_count": 1,
   "metadata": {},
   "outputs": [],
   "source": [
    "org_name = 'mbry'\n",
    "org_full_name = 'Methylocystis_bryophila'\n"
   ]
  },
  {
   "cell_type": "code",
   "execution_count": null,
   "metadata": {},
   "outputs": [],
   "source": [
    "''' run in terminal\n",
    "cd C:\\Users\\vickenlee\\Documents\\GitHub\\BuildGEM\\Methylocystis_bryophila_genome\\refdatabase\n",
    "makeblastdb -in GCF_002117405.1_ASM211740v1_cds_from_genomic.fna -parse_seqids -dbtype nucl -out refgeneDB\n",
    "'''"
   ]
  },
  {
   "cell_type": "code",
   "execution_count": null,
   "metadata": {},
   "outputs": [],
   "source": [
    "ATGGCGCGCATCCTCTTCTTCGTGTGGCCCCATTTTGCCTCTGTAGCAAGCGGTTTAAAACTCGCCCGGGATTTGCTTTC\n",
    "TAGAGGACATGAGGTTTCCTACGTGGGGGTGGCGGACTGTAAGACATTCGTCGTCGCCCACGGTCACCAATTCATACCGC\n",
    "TGTATGCGAGATGGCTACCGGAGACGCCGACCGATTCGGCGCATGAGACCGCAACCGACCAAAATTTCTGGGACCAACTC\n",
    "AGAAGCGCGCGCGCAAGGGTGCGGACGGTTCGCGCCCTCCTCGACGCTTTGGTAGCCGATGAGGAAAGAGAGTTTCAGGA\n",
    "GATTCTGAAGCTCAAGAAGCCGGACCTTTTGATAATTCACATCTCTGACTTCGAAGTAATAATACCATCCTTGTTGGCAT\n",
    "ATGAGGCCGGAATCAAGTGCGCTTATCTTTATGACAACTTTGGCCGGAGCGAAGATTGCAGGGTGCCTCCAGTCCGGACT\n",
    "GCTATTTTGCCGAATGGCGGCCGGGGAGCATCCCTGAGATTGTGGCTGGCTTGGAAAATTCTAAAAATTCGGCGCCGCGT\n",
    "CGCCGGCGATGTCTACGGCTTGCTAGGACTTGCATATCTGCCCGCCCTTCGCGAGGCGAGCCGAAGAATCGCCGAACGAT\n",
    "GTCGTTATCCGTGCGAGTTCGTGGACTCCACGGATTTAGCGCCCTTGAAGGCGCATCTCCCTGAAATTGTGCTTTGCCCA\n",
    "CCCGAACTCGAATTTCCCCATCACGGGCGACCTGGTCGCTATTATTTCGGCTGCAACATCGACTTGCACAGAAACGAAGG\n",
    "AGATTTTCCTTGGAGTAGCTTGGATACGCGGCCATTGGTCTATTGTAGCCTTGGGACAATGTCCTGGTTTAACAAAGACG\n",
    "TCTACCAGCGATTTTTCCGAATTATAATTGCTGTTGCGGAACATAGACCTGAATTTCAGTGGGTCGTAAATGTTTATGAT\n",
    "GTAGTGAATCCTGAGGAATTTGAGAATGTGCCCCAGAACGTCCATCTTGTAAAGCGAGCGCCCCAGCTCGCGATTTTGCA\n",
    "AAGAAGCGCTGTCGCTATAGTTCACGGAGGCCCCAACACCGTCAAGGAATGCGCTTATTTCGGCGTGCCGATGATCGTTT\n",
    "TTCCGCTAGGTCTGGATCAGCCCGGAACCGCAGCGAGGGTTGTGTATCACGGTCTCGGGGTCAGCGGAGACTTTTGTAGT\n",
    "GTTACGAAGGAGCAGATGGATGCGTTGGTGGACAGAGTCGATCGAGACTCCTTCGTCCGAGTTCAGACGCGGCTGATAGG\n",
    "AGAAACATTGCGGGCAGCCGATCTTGAACGATCCCCAGTTGATTTTGTTGAAAAGCTTCTTGACCCCGAAAGTGAAAATT\n",
    "CTGGAAGGTGA\n",
    "\n",
    "\n",
    "DSM21852_01220"
   ]
  },
  {
   "cell_type": "code",
   "execution_count": 2,
   "metadata": {},
   "outputs": [
    {
     "name": "stdout",
     "output_type": "stream",
     "text": [
      "Methylocystis_bryophila_genome\\ncbi_dataset\\data\\GCA_027925445.1\\cds_from_genomic.fna\n"
     ]
    }
   ],
   "source": [
    "import os\n",
    "faa_paths=[]\n",
    "for root, dirs, files in os.walk(org_full_name+'_genome'):\n",
    "    if 'cds_from_genomic.fna' in files:\n",
    "        faa_paths.append(root+'\\\\cds_from_genomic.fna')\n",
    "if len(faa_paths) > 1:\n",
    "    faa_file = [x for x in faa_paths if 'GCF' in x][0]\n",
    "else:\n",
    "    faa_file = faa_paths[0]\n",
    "print(faa_file)"
   ]
  },
  {
   "cell_type": "code",
   "execution_count": 3,
   "metadata": {},
   "outputs": [],
   "source": [
    "from Bio.Blast.Applications import NcbiblastnCommandline\n",
    "database_file = org_full_name+'_genome\\\\refdatabase\\\\refgeneDB'\n",
    "blastn_cline = NcbiblastnCommandline(query = faa_file, db = database_file, outfmt = 5, out = org_full_name+\"_genome\\\\GenomeBlastToRefResults.xml\") \n",
    "stdout, stderr = blastn_cline()"
   ]
  },
  {
   "cell_type": "code",
   "execution_count": 9,
   "metadata": {},
   "outputs": [],
   "source": [
    "import pandas as pd\n",
    "from Bio.Blast import NCBIXML\n",
    "import re\n",
    "\n",
    "df_gene_tag = pd.DataFrame(columns=[\"NEWgene\", \"NEWtag\", \"refgene\", \"reftag\"])\n",
    "\n",
    "E_VALUE_THRESH = 1e-20 \n",
    "for record in NCBIXML.parse(open(org_full_name+\"_genome\\\\GenomeBlastToRefResults.xml\")): \n",
    "   if record.alignments: \n",
    "      NEWgene = record.query.split(' ')[0]\n",
    "      match = re.search(r'locus_tag=([\\w\\d_]+)', record.query)\n",
    "      if match:\n",
    "          NEWtag = match.group(1)\n",
    "      else:\n",
    "         NEWtag = ''\n",
    "\n",
    "      for align in record.alignments: \n",
    "         for hsp in align.hsps: \n",
    "            if hsp.expect < E_VALUE_THRESH: \n",
    "               refgene = align.title.split(' ')[0]\n",
    "               match = re.search(r'locus_tag=([\\w\\d_]+)', align.title)\n",
    "               if match:\n",
    "                  reftag = match.group(1)\n",
    "               else:\n",
    "                  reftag = ''\n",
    "               df_gene_tag.loc[len(df_gene_tag.index)]=[NEWgene,NEWtag,refgene,reftag]\n",
    "gene_tag = df_gene_tag.drop_duplicates(subset=['NEWgene','NEWtag','refgene','reftag'], keep='first')"
   ]
  },
  {
   "cell_type": "code",
   "execution_count": 5,
   "metadata": {},
   "outputs": [
    {
     "data": {
      "text/plain": [
       "'lcl|AP027150.1_cds_BDV41077.1_4330 [locus_tag=DSM21852_43310] [protein=hypothetical protein] [protein_id=BDV41077.1] [location=173707..174078] [gbkey=CDS]'"
      ]
     },
     "execution_count": 5,
     "metadata": {},
     "output_type": "execute_result"
    }
   ],
   "source": [
    "record.query"
   ]
  },
  {
   "cell_type": "code",
   "execution_count": 10,
   "metadata": {},
   "outputs": [],
   "source": [
    "from Bio import SeqIO\n",
    "import pandas as pd\n",
    "\n",
    "\n",
    "df_gene_old_tag = pd.DataFrame(columns=[\"reftag\", \"oldtag\"])\n",
    "\n",
    "gbff_file = org_full_name+'_genome\\\\refdatabase\\\\GCF_002441955.1_ASM244195v1_genomic.gbff'  # Methylomonas_koyamae\n",
    "gbff_file = org_full_name+'_genome\\\\refdatabase\\\\GCF_002117405.1_ASM211740v1_genomic.gbff'  # Methylocystis_bryophila\n",
    "\n",
    "for record in SeqIO.parse(gbff_file, \"genbank\"):\n",
    "    for feature in record.features:\n",
    "        if feature.type == \"CDS\":\n",
    "            locus_tag = feature.qualifiers.get(\"locus_tag\", [\"\"])[0]\n",
    "            old_locus_tag = feature.qualifiers.get(\"old_locus_tag\", [\"\"])[0]\n",
    "            if locus_tag != '':\n",
    "                df_gene_old_tag.loc[len(df_gene_old_tag.index)]=[locus_tag,old_locus_tag]\n"
   ]
  },
  {
   "cell_type": "code",
   "execution_count": 11,
   "metadata": {},
   "outputs": [],
   "source": [
    "import pandas as pd\n",
    "\n",
    "df_tag = pd.merge(gene_tag, df_gene_old_tag, how='left', on='reftag')"
   ]
  },
  {
   "cell_type": "code",
   "execution_count": 12,
   "metadata": {},
   "outputs": [],
   "source": [
    "df_tag.to_csv(org_full_name+'_genome\\\\'+org_name+'_gene_tag.csv', index=False,sep='\\t')"
   ]
  }
 ],
 "metadata": {
  "kernelspec": {
   "display_name": "Python 3",
   "language": "python",
   "name": "python3"
  },
  "language_info": {
   "codemirror_mode": {
    "name": "ipython",
    "version": 3
   },
   "file_extension": ".py",
   "mimetype": "text/x-python",
   "name": "python",
   "nbconvert_exporter": "python",
   "pygments_lexer": "ipython3",
   "version": "3.9.8"
  },
  "orig_nbformat": 4
 },
 "nbformat": 4,
 "nbformat_minor": 2
}
