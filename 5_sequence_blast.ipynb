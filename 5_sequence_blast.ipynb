{
 "cells": [
  {
   "cell_type": "code",
   "execution_count": 16,
   "metadata": {},
   "outputs": [
    {
     "name": "stdout",
     "output_type": "stream",
     "text": [
      "Requirement already satisfied: biopython in c:\\users\\vickenlee\\appdata\\local\\programs\\python\\python39\\lib\\site-packages (1.81)\n",
      "Requirement already satisfied: numpy in c:\\users\\vickenlee\\appdata\\local\\programs\\python\\python39\\lib\\site-packages (from biopython) (1.23.5)\n",
      "Note: you may need to restart the kernel to use updated packages.\n"
     ]
    },
    {
     "name": "stderr",
     "output_type": "stream",
     "text": [
      "\n",
      "[notice] A new release of pip is available: 23.0 -> 23.0.1\n",
      "[notice] To update, run: python.exe -m pip install --upgrade pip\n"
     ]
    }
   ],
   "source": [
    "pip install biopython\n",
    "pip install StringIO\n",
    "# https://www.tutorialspoint.com/biopython/biopython_overview_of_blast.htm"
   ]
  },
  {
   "cell_type": "code",
   "execution_count": 14,
   "metadata": {},
   "outputs": [],
   "source": [
    "org_name = 'mko'\n",
    "org_full_name = 'Methylomonas_koyamae'\n"
   ]
  },
  {
   "cell_type": "code",
   "execution_count": null,
   "metadata": {},
   "outputs": [],
   "source": [
    "''' run in terminal\n",
    "cd C:\\Users\\vickenlee\\Documents\\GitHub\\BuildGEM\\Methylomonas_koyamae_genome\\refdatabase\n",
    "makeblastdb -in GCF_002441955.1_ASM244195v1_cds_from_genomic.fna -parse_seqids -dbtype nucl -out refgeneDB\n",
    "'''"
   ]
  },
  {
   "cell_type": "code",
   "execution_count": 3,
   "metadata": {},
   "outputs": [],
   "source": [
    "org_name = 'mbry'\n",
    "org_full_name = 'Methylocystis_bryophila'\n"
   ]
  },
  {
   "cell_type": "code",
   "execution_count": null,
   "metadata": {},
   "outputs": [],
   "source": [
    "''' run in terminal\n",
    "cd C:\\Users\\vickenlee\\Documents\\GitHub\\BuildGEM\\Methylocystis_bryophila_genome\\refdatabase\n",
    "makeblastdb -in GCF_002117405.1_ASM211740v1_cds_from_genomic.fna -parse_seqids -dbtype nucl -out refgeneDB\n",
    "'''"
   ]
  },
  {
   "cell_type": "code",
   "execution_count": 4,
   "metadata": {},
   "outputs": [
    {
     "name": "stdout",
     "output_type": "stream",
     "text": [
      "Methylocystis_bryophila_genome\\ncbi_dataset\\data\\GCA_027925445.1\\cds_from_genomic.fna\n"
     ]
    }
   ],
   "source": [
    "import os\n",
    "faa_paths=[]\n",
    "for root, dirs, files in os.walk(org_full_name+'_genome'):\n",
    "    if 'cds_from_genomic.fna' in files:\n",
    "        faa_paths.append(root+'\\\\cds_from_genomic.fna')\n",
    "if len(faa_paths) > 1:\n",
    "    faa_file = [x for x in faa_paths if 'GCF' in x][0]\n",
    "else:\n",
    "    faa_file = faa_paths[0]\n",
    "print(faa_file)"
   ]
  },
  {
   "cell_type": "code",
   "execution_count": 5,
   "metadata": {},
   "outputs": [],
   "source": [
    "from Bio.Blast.Applications import NcbiblastnCommandline\n",
    "database_file = org_full_name+'_genome\\\\refdatabase\\\\refgeneDB'\n",
    "blastn_cline = NcbiblastnCommandline(query = \"seq.fasta\", db = database_file, outfmt = 5, out = org_full_name+\"_genome\\\\GenomeBlastToRefResults.xml\") \n",
    "stdout, stderr = blastn_cline()"
   ]
  }
 ],
 "metadata": {
  "kernelspec": {
   "display_name": "Python 3",
   "language": "python",
   "name": "python3"
  },
  "language_info": {
   "codemirror_mode": {
    "name": "ipython",
    "version": 3
   },
   "file_extension": ".py",
   "mimetype": "text/x-python",
   "name": "python",
   "nbconvert_exporter": "python",
   "pygments_lexer": "ipython3",
   "version": "3.9.8"
  },
  "orig_nbformat": 4
 },
 "nbformat": 4,
 "nbformat_minor": 2
}
