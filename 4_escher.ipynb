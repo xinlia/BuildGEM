{
 "cells": [
  {
   "cell_type": "code",
   "execution_count": 1,
   "metadata": {},
   "outputs": [],
   "source": [
    "#pip install --user markupsafe==2.0.1\n",
    "import escher\n",
    "from escher import Builder\n",
    "import cobra\n",
    "from time import sleep"
   ]
  },
  {
   "cell_type": "code",
   "execution_count": 2,
   "metadata": {},
   "outputs": [],
   "source": [
    "escher.rc['never_ask_before_quit'] = True"
   ]
  },
  {
   "cell_type": "code",
   "execution_count": 3,
   "metadata": {},
   "outputs": [],
   "source": [
    "builder = Builder()"
   ]
  },
  {
   "cell_type": "code",
   "execution_count": 3,
   "metadata": {},
   "outputs": [],
   "source": [
    "builder = Builder(\n",
    "    map_json='MethylococcusCapsulatusMetabolismMap.json',\n",
    "    model_json='mbry.json'\n",
    ")"
   ]
  },
  {
   "cell_type": "code",
   "execution_count": 4,
   "metadata": {},
   "outputs": [
    {
     "data": {
      "application/vnd.jupyter.widget-view+json": {
       "model_id": "cec72a85e5f04a6693c0fcd91af6f0af",
       "version_major": 2,
       "version_minor": 0
      },
      "text/plain": [
       "Builder(never_ask_before_quit=True)"
      ]
     },
     "metadata": {},
     "output_type": "display_data"
    }
   ],
   "source": [
    "builder"
   ]
  },
  {
   "cell_type": "code",
   "execution_count": null,
   "metadata": {},
   "outputs": [],
   "source": [
    "builder.save_html('example_map.html')"
   ]
  },
  {
   "cell_type": "code",
   "execution_count": null,
   "metadata": {},
   "outputs": [],
   "source": []
  },
  {
   "cell_type": "code",
   "execution_count": 10,
   "metadata": {},
   "outputs": [],
   "source": [
    "from Bio.KEGG.KGML.KGML_parser import read"
   ]
  },
  {
   "cell_type": "code",
   "execution_count": 18,
   "metadata": {},
   "outputs": [],
   "source": [
    "pathway = read(open('mbry/mbry00680.xml', 'r'))"
   ]
  },
  {
   "cell_type": "code",
   "execution_count": 21,
   "metadata": {},
   "outputs": [
    {
     "name": "stdout",
     "output_type": "stream",
     "text": [
      "Pathway: Methane metabolism\n",
      "KEGG ID: path:mbry00680\n",
      "Image file: https://www.kegg.jp/kegg/pathway/mbry/mbry00680.png\n",
      "Organism: mbry\n",
      "Entries: 218\n",
      "Entry types:\n",
      "\tortholog: 76\n",
      "\tgene: 34\n",
      "\tcompound: 95\n",
      "\tmap: 13\n",
      "\n"
     ]
    }
   ],
   "source": [
    "print(pathway)"
   ]
  },
  {
   "cell_type": "code",
   "execution_count": 20,
   "metadata": {},
   "outputs": [
    {
     "ename": "AttributeError",
     "evalue": "'int' object has no attribute 'id'",
     "output_type": "error",
     "traceback": [
      "\u001b[1;31m---------------------------------------------------------------------------\u001b[0m",
      "\u001b[1;31mAttributeError\u001b[0m                            Traceback (most recent call last)",
      "Cell \u001b[1;32mIn[20], line 2\u001b[0m\n\u001b[0;32m      1\u001b[0m \u001b[39mfor\u001b[39;00m ent \u001b[39min\u001b[39;00m pathway\u001b[39m.\u001b[39mentries:\n\u001b[1;32m----> 2\u001b[0m     \u001b[39mprint\u001b[39m(ent\u001b[39m.\u001b[39;49mid)\n",
      "\u001b[1;31mAttributeError\u001b[0m: 'int' object has no attribute 'id'"
     ]
    }
   ],
   "source": [
    "for ent in pathway.entries:\n",
    "    print(ent.id)"
   ]
  }
 ],
 "metadata": {
  "kernelspec": {
   "display_name": "Python 3",
   "language": "python",
   "name": "python3"
  },
  "language_info": {
   "codemirror_mode": {
    "name": "ipython",
    "version": 3
   },
   "file_extension": ".py",
   "mimetype": "text/x-python",
   "name": "python",
   "nbconvert_exporter": "python",
   "pygments_lexer": "ipython3",
   "version": "3.9.8"
  },
  "orig_nbformat": 4,
  "vscode": {
   "interpreter": {
    "hash": "4fcda1b261581924d09de579bd4b132cd3d21b247043ee13c49095974b82ed9f"
   }
  }
 },
 "nbformat": 4,
 "nbformat_minor": 2
}
