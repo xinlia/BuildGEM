{
 "cells": [
  {
   "cell_type": "code",
   "execution_count": 1,
   "metadata": {},
   "outputs": [],
   "source": [
    "#pip install --user markupsafe==2.0.1\n",
    "import escher\n",
    "from escher import Builder\n",
    "import cobra\n",
    "from time import sleep"
   ]
  },
  {
   "cell_type": "code",
   "execution_count": 2,
   "metadata": {},
   "outputs": [
    {
     "ename": "AttributeError",
     "evalue": "module 'escher' has no attribute 'rc'",
     "output_type": "error",
     "traceback": [
      "\u001b[1;31m---------------------------------------------------------------------------\u001b[0m",
      "\u001b[1;31mAttributeError\u001b[0m                            Traceback (most recent call last)",
      "Cell \u001b[1;32mIn[2], line 1\u001b[0m\n\u001b[1;32m----> 1\u001b[0m escher\u001b[39m.\u001b[39;49mrc[\u001b[39m'\u001b[39m\u001b[39mnever_ask_before_quit\u001b[39m\u001b[39m'\u001b[39m] \u001b[39m=\u001b[39m \u001b[39mTrue\u001b[39;00m\n",
      "\u001b[1;31mAttributeError\u001b[0m: module 'escher' has no attribute 'rc'"
     ]
    }
   ],
   "source": [
    "escher.rc['never_ask_before_quit'] = True"
   ]
  },
  {
   "cell_type": "code",
   "execution_count": 3,
   "metadata": {},
   "outputs": [],
   "source": [
    "builder = Builder()"
   ]
  },
  {
   "cell_type": "code",
   "execution_count": 5,
   "metadata": {},
   "outputs": [],
   "source": [
    "builder = Builder(\n",
    "    map_json='MethylococcusCapsulatusMetabolismMap.json',\n",
    "    #model_json='mbry.json'\n",
    ")"
   ]
  },
  {
   "cell_type": "code",
   "execution_count": 6,
   "metadata": {},
   "outputs": [
    {
     "data": {
      "text/plain": [
       "<escher.plots.Builder at 0x25553819430>"
      ]
     },
     "execution_count": 6,
     "metadata": {},
     "output_type": "execute_result"
    }
   ],
   "source": [
    "builder"
   ]
  },
  {
   "cell_type": "code",
   "execution_count": null,
   "metadata": {},
   "outputs": [],
   "source": [
    "builder.save_html('example_map.html')"
   ]
  },
  {
   "cell_type": "code",
   "execution_count": 10,
   "metadata": {},
   "outputs": [],
   "source": [
    "from Bio.KEGG.KGML.KGML_parser import read"
   ]
  },
  {
   "cell_type": "code",
   "execution_count": 18,
   "metadata": {},
   "outputs": [],
   "source": [
    "pathway = read(open('mbry/mbry00680.xml', 'r'))"
   ]
  },
  {
   "cell_type": "code",
   "execution_count": 21,
   "metadata": {},
   "outputs": [
    {
     "name": "stdout",
     "output_type": "stream",
     "text": [
      "Pathway: Methane metabolism\n",
      "KEGG ID: path:mbry00680\n",
      "Image file: https://www.kegg.jp/kegg/pathway/mbry/mbry00680.png\n",
      "Organism: mbry\n",
      "Entries: 218\n",
      "Entry types:\n",
      "\tortholog: 76\n",
      "\tgene: 34\n",
      "\tcompound: 95\n",
      "\tmap: 13\n",
      "\n"
     ]
    }
   ],
   "source": [
    "print(pathway)"
   ]
  },
  {
   "cell_type": "code",
   "execution_count": 20,
   "metadata": {},
   "outputs": [
    {
     "ename": "AttributeError",
     "evalue": "'int' object has no attribute 'id'",
     "output_type": "error",
     "traceback": [
      "\u001b[1;31m---------------------------------------------------------------------------\u001b[0m",
      "\u001b[1;31mAttributeError\u001b[0m                            Traceback (most recent call last)",
      "Cell \u001b[1;32mIn[20], line 2\u001b[0m\n\u001b[0;32m      1\u001b[0m \u001b[39mfor\u001b[39;00m ent \u001b[39min\u001b[39;00m pathway\u001b[39m.\u001b[39mentries:\n\u001b[1;32m----> 2\u001b[0m     \u001b[39mprint\u001b[39m(ent\u001b[39m.\u001b[39;49mid)\n",
      "\u001b[1;31mAttributeError\u001b[0m: 'int' object has no attribute 'id'"
     ]
    }
   ],
   "source": [
    "for ent in pathway.entries:\n",
    "    print(ent.id)"
   ]
  },
  {
   "cell_type": "code",
   "execution_count": 3,
   "metadata": {},
   "outputs": [
    {
     "ename": "ImportError",
     "evalue": "cannot import name 'fbahelper' from 'cobrakbase.core' (c:\\Users\\vickenlee\\AppData\\Local\\Programs\\Python\\Python39\\lib\\site-packages\\cobrakbase\\core\\__init__.py)",
     "output_type": "error",
     "traceback": [
      "\u001b[1;31m---------------------------------------------------------------------------\u001b[0m",
      "\u001b[1;31mImportError\u001b[0m                               Traceback (most recent call last)",
      "Cell \u001b[1;32mIn[3], line 8\u001b[0m\n\u001b[0;32m      6\u001b[0m os\u001b[39m.\u001b[39menviron[\u001b[39m\"\u001b[39m\u001b[39mHOME\u001b[39m\u001b[39m\"\u001b[39m] \u001b[39m=\u001b[39m \u001b[39m\"\u001b[39m\u001b[39m1\u001b[39m\u001b[39m\"\u001b[39m  \u001b[39m# needed this for cobrakbase import to work properly\u001b[39;00m\n\u001b[0;32m      7\u001b[0m \u001b[39mimport\u001b[39;00m \u001b[39mcobrakbase\u001b[39;00m\n\u001b[1;32m----> 8\u001b[0m \u001b[39mfrom\u001b[39;00m \u001b[39mcobrakbase\u001b[39;00m\u001b[39m.\u001b[39;00m\u001b[39mcore\u001b[39;00m \u001b[39mimport\u001b[39;00m fbahelper  \u001b[39m#fbahelper is what you need from cobrakbase\u001b[39;00m\n\u001b[0;32m     10\u001b[0m \u001b[39m#jinja / display imports\u001b[39;00m\n\u001b[0;32m     11\u001b[0m \u001b[39mimport\u001b[39;00m \u001b[39mjinja2\u001b[39;00m\n",
      "\u001b[1;31mImportError\u001b[0m: cannot import name 'fbahelper' from 'cobrakbase.core' (c:\\Users\\vickenlee\\AppData\\Local\\Programs\\Python\\Python39\\lib\\site-packages\\cobrakbase\\core\\__init__.py)"
     ]
    }
   ],
   "source": [
    "import os\n",
    "\n",
    "import cobra\n",
    "from cobra import Model, Reaction, Metabolite\n",
    "\n",
    "os.environ[\"HOME\"] = \"1\"  # needed this for cobrakbase import to work properly\n",
    "import cobrakbase\n",
    "from cobrakbase.core.fbahelper import FBAHelper  #fbahelper is what you need from cobrakbase\n",
    "\n",
    "#jinja / display imports\n",
    "import jinja2\n",
    "from jinja2 import Environment, PackageLoader, select_autoescape\n",
    "from IPython.core.display import HTML\n",
    "from IPython.display import IFrame\n",
    "from IPython.core.display import display\n",
    "\n",
    "#import json to read and write files\n",
    "import json\n",
    "\n",
    "# generate the api\n",
    "from ModelSeedpy_Escher.core.eschermapapi import EscherMapAPIBiGG as EscherMapAPI  #need escher map API\n",
    "api = EscherMapAPI()"
   ]
  }
 ],
 "metadata": {
  "kernelspec": {
   "display_name": "Python 3",
   "language": "python",
   "name": "python3"
  },
  "language_info": {
   "codemirror_mode": {
    "name": "ipython",
    "version": 3
   },
   "file_extension": ".py",
   "mimetype": "text/x-python",
   "name": "python",
   "nbconvert_exporter": "python",
   "pygments_lexer": "ipython3",
   "version": "3.9.8"
  },
  "orig_nbformat": 4,
  "vscode": {
   "interpreter": {
    "hash": "4fcda1b261581924d09de579bd4b132cd3d21b247043ee13c49095974b82ed9f"
   }
  }
 },
 "nbformat": 4,
 "nbformat_minor": 2
}
