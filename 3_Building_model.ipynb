{
 "cells": [
  {
   "cell_type": "code",
   "execution_count": 1,
   "metadata": {},
   "outputs": [],
   "source": [
    "org_name = 'mko'\n",
    "org_full_name = 'Methylomonas_koyamae'"
   ]
  },
  {
   "cell_type": "code",
   "execution_count": null,
   "metadata": {},
   "outputs": [],
   "source": [
    "org_name = 'mbry'\n",
    "org_full_name = 'Methylocystis_bryophila'"
   ]
  },
  {
   "cell_type": "code",
   "execution_count": null,
   "metadata": {},
   "outputs": [],
   "source": [
    "org_name = 'mca'\n",
    "org_full_name = 'Methylococcus_capsulatus'"
   ]
  },
  {
   "attachments": {},
   "cell_type": "markdown",
   "metadata": {},
   "source": [
    "## import KEGG reaction list and mapping to BIGG reaction"
   ]
  },
  {
   "cell_type": "code",
   "execution_count": 2,
   "metadata": {},
   "outputs": [],
   "source": [
    "import myModules.KEGG2BIGG as K2B"
   ]
  },
  {
   "cell_type": "code",
   "execution_count": 3,
   "metadata": {},
   "outputs": [],
   "source": [
    "unikegglist = list(set(K2B.KEGG_pathways_reactions['R_ID'].tolist()))\n",
    "unikeggmappedinBIGG = [r for r in unikegglist if K2B.KEGG_BIGG_dir_selected.get(r)]\n",
    "unikeggnotmappedinBIGG = [r for r in unikegglist if not K2B.KEGG_BIGG_dir_selected.get(r)]"
   ]
  },
  {
   "cell_type": "code",
   "execution_count": 4,
   "metadata": {},
   "outputs": [
    {
     "name": "stdout",
     "output_type": "stream",
     "text": [
      "kegg_rxn_list: 874\n",
      "R_list: 927\n"
     ]
    }
   ],
   "source": [
    "import pandas as pd\n",
    "df_kegg_reaction  = pd.read_excel(org_name+'\\\\'+org_name+'_clean_kegg_reaction.xlsx', index_col=0) \n",
    "keggrxnlist=df_kegg_reaction['Kegg_ID'].tolist()\n",
    "\n",
    "R_list = []\n",
    "with open('genome\\\\'+org_full_name+'_genome\\\\R_list.txt','r') as f:\n",
    "    for line in f.readlines():\n",
    "        R_list.append(line.strip())\n",
    "f.close()\n",
    "\n",
    "print('kegg_rxn_list: '+str(len(keggrxnlist)))\n",
    "print('R_list: '+str(len(R_list)))"
   ]
  },
  {
   "cell_type": "code",
   "execution_count": 5,
   "metadata": {},
   "outputs": [],
   "source": [
    "mcakeggrxnlist=pd.read_excel('mca\\\\mca_clean_kegg_reaction.xlsx', index_col=0) ['Kegg_ID'].tolist()"
   ]
  },
  {
   "cell_type": "code",
   "execution_count": 6,
   "metadata": {},
   "outputs": [],
   "source": [
    "with open(org_name+'\\\\'+org_name+'_mca_inBIGG_KEGG_color.txt',\"w\") as f:\n",
    "    kegglist = list(set(keggrxnlist+mcakeggrxnlist+unikeggmappedinBIGG))\n",
    "    for r in kegglist:\n",
    "        string = r\n",
    "        if r in keggrxnlist:\n",
    "            string+=' yellow'\n",
    "        else:\n",
    "            string+=' white'\n",
    "        if r in mcakeggrxnlist:\n",
    "            string+=' pink'\n",
    "        else:\n",
    "            string+=' white'\n",
    "        if r in unikeggmappedinBIGG:\n",
    "            string+=' green'\n",
    "        else:\n",
    "            string+=' white'\n",
    "        f.write(string+'\\n')\n",
    "f.close()\n",
    "\n",
    "# show color in website https://www.kegg.jp/kegg-bin/show_pathway?map00680 "
   ]
  },
  {
   "cell_type": "code",
   "execution_count": 8,
   "metadata": {},
   "outputs": [
    {
     "name": "stdout",
     "output_type": "stream",
     "text": [
      "mappedBIGG: 529\n",
      "can_not_map: 345\n",
      "mappedBIGGlist: 528\n",
      "cannotmaplist: 345\n"
     ]
    }
   ],
   "source": [
    "mappedBIGG = {}\n",
    "can_not_map = []\n",
    "for r in keggrxnlist:\n",
    "    if K2B.KEGG_BIGG_dir_selected.get(r):\n",
    "        mappedBIGG[r] = K2B.KEGG_BIGG_dir_selected.get(r)\n",
    "    else:\n",
    "        can_not_map.append(r)\n",
    "print('mappedBIGG: '+str(len(mappedBIGG)))\n",
    "print('can_not_map: '+str(len(can_not_map)))\n",
    "\n",
    "mappedKEGGlist = list(set(mappedBIGG.keys()))\n",
    "mappedBIGGlist = list(set(mappedBIGG.values()))\n",
    "print('mappedBIGGlist: '+str(len(mappedBIGGlist)))\n",
    "cannotmaplist = list(set(can_not_map))\n",
    "print('cannotmaplist: '+str(len(cannotmaplist)))"
   ]
  },
  {
   "cell_type": "code",
   "execution_count": 7,
   "metadata": {},
   "outputs": [
    {
     "name": "stderr",
     "output_type": "stream",
     "text": [
      "C:\\Users\\lix\\AppData\\Local\\Temp\\ipykernel_18028\\3540687484.py:2: FutureWarning: The squeeze argument has been deprecated and will be removed in a future version. Append .squeeze(\"columns\") to the call to squeeze.\n",
      "\n",
      "\n",
      "  uniR_in_pw_count = pd.read_csv('KEGG\\\\Reaction_in_pathway_count.csv',index_col=0,squeeze=True)\n"
     ]
    }
   ],
   "source": [
    "import pandas as pd\n",
    "uniR_in_pw_count = pd.read_csv('KEGG\\\\Reaction_in_pathway_count.csv',index_col=0,squeeze=True)"
   ]
  },
  {
   "cell_type": "code",
   "execution_count": 8,
   "metadata": {},
   "outputs": [
    {
     "name": "stdout",
     "output_type": "stream",
     "text": [
      "map00230 69 Purine metabolism\n",
      "map00790 42 Folate biosynthesis\n",
      "map00240 41 Pyrimidine metabolism\n",
      "map00061 41 Fatty acid biosynthesis\n",
      "map00270 39 Cysteine and methionine metabolism\n",
      "map00860 38 Porphyrin metabolism\n",
      "map00520 38 Amino sugar and nucleotide sugar metabolism\n",
      "map00680 37 Methane metabolism\n",
      "map00620 30 Pyruvate metabolism\n",
      "map00010 28 Glycolysis / Gluconeogenesis\n",
      "map00030 24 Pentose phosphate pathway\n",
      "map00330 24 Arginine and proline metabolism\n",
      "map00260 24 Glycine, serine and threonine metabolism\n",
      "map00970 23 Aminoacyl-tRNA biosynthesis\n",
      "map00541 22 O-Antigen nucleotide sugar biosynthesis\n",
      "map00720 22 Carbon fixation pathways in prokaryotes\n",
      "map00400 21 Phenylalanine, tyrosine and tryptophan biosynthesis\n",
      "map00250 20 Alanine, aspartate and glutamate metabolism\n",
      "map00290 20 Valine, leucine and isoleucine biosynthesis\n",
      "map00540 20 Lipopolysaccharide biosynthesis\n",
      "map00630 19 Glyoxylate and dicarboxylate metabolism\n",
      "map00020 19 Citrate cycle (TCA cycle)\n",
      "map00564 18 Glycerophospholipid metabolism\n",
      "map00670 17 One carbon pool by folate\n",
      "map00770 17 Pantothenate and CoA biosynthesis\n",
      "map00760 17 Nicotinate and nicotinamide metabolism\n",
      "map00130 16 Ubiquinone and other terpenoid-quinone biosynthesis\n",
      "map00780 16 Biotin metabolism\n",
      "map00500 16 Starch and sucrose metabolism\n",
      "map00910 15 Nitrogen metabolism\n",
      "map00300 15 Lysine biosynthesis\n",
      "map00900 15 Terpenoid backbone biosynthesis\n",
      "map00550 15 Peptidoglycan biosynthesis\n",
      "map00220 14 Arginine biosynthesis\n",
      "map00710 14 Carbon fixation in photosynthetic organisms\n",
      "map00920 14 Sulfur metabolism\n",
      "map00470 13 D-Amino acid metabolism\n",
      "map00730 13 Thiamine metabolism\n",
      "map00561 13 Glycerolipid metabolism\n",
      "map00350 12 Tyrosine metabolism\n",
      "map00480 12 Glutathione metabolism\n",
      "map00740 11 Riboflavin metabolism\n",
      "map00051 11 Fructose and mannose metabolism\n",
      "map00340 11 Histidine metabolism\n",
      "map00280 11 Valine, leucine and isoleucine degradation\n",
      "map00552 10 Teichoic acid biosynthesis\n",
      "map00640 10 Propanoate metabolism\n",
      "map00460 8 Cyanoamino acid metabolism\n",
      "map00906 7 Carotenoid biosynthesis\n",
      "map00521 7 Streptomycin biosynthesis\n",
      "map00360 7 Phenylalanine metabolism\n",
      "map00380 7 Tryptophan metabolism\n",
      "map00660 7 C5-Branched dibasic acid metabolism\n",
      "map00650 7 Butanoate metabolism\n",
      "map00261 6 Monobactam biosynthesis\n",
      "map00450 6 Selenocompound metabolism\n",
      "map00361 6 Chlorocyclohexane and chlorobenzene degradation\n",
      "map00562 5 Inositol phosphate metabolism\n",
      "map00625 4 Chloroalkane and chloroalkene degradation\n",
      "map00785 4 Lipoic acid metabolism\n",
      "map00523 4 Polyketide sugar unit biosynthesis\n",
      "map00750 4 Vitamin B6 metabolism\n",
      "map00999 4 Biosynthesis of various plant secondary metabolites\n",
      "map00946 4 Degradation of flavonoids\n",
      "map00052 4 Galactose metabolism\n",
      "map00310 4 Lysine degradation\n",
      "map00040 4 Pentose and glucuronate interconversions\n",
      "map00430 4 Taurine and hypotaurine metabolism\n",
      "map00966 3 Glucosinolate biosynthesis\n",
      "map00909 3 Sesquiterpenoid and triterpenoid biosynthesis\n",
      "map00053 3 Ascorbate and aldarate metabolism\n",
      "map00071 3 Fatty acid degradation\n",
      "map00791 3 Atrazine degradation\n",
      "map00332 3 Carbapenem biosynthesis\n",
      "map00627 3 Aminobenzoate degradation\n",
      "map00405 2 Phenazine biosynthesis\n",
      "map00626 2 Naphthalene degradation\n",
      "map00623 2 Toluene degradation\n",
      "map00311 2 Penicillin and cephalosporin biosynthesis\n",
      "map00950 2 Isoquinoline alkaloid biosynthesis\n",
      "map00525 2 Acarbose and validamycin biosynthesis\n",
      "map00401 2 Novobiocin biosynthesis\n",
      "map00364 2 Fluorobenzoate degradation\n",
      "map00410 2 beta-Alanine metabolism\n",
      "map00362 1 Benzoate degradation\n",
      "map00998 1 Biosynthesis of various antibiotics\n",
      "map01055 1 Biosynthesis of vancomycin group antibiotics\n",
      "map00254 1 Aflatoxin biosynthesis\n",
      "map00524 1 Neomycin, kanamycin and gentamicin biosynthesis\n",
      "map00960 1 Tropane, piperidine and pyridine alkaloid biosynthesis\n",
      "map00100 1 Steroid biosynthesis\n",
      "map00402 1 Benzoxazinoid biosynthesis\n"
     ]
    }
   ],
   "source": [
    "R_in_pw_count = K2B.pathway_count(keggrxnlist)"
   ]
  },
  {
   "cell_type": "code",
   "execution_count": 10,
   "metadata": {},
   "outputs": [
    {
     "name": "stdout",
     "output_type": "stream",
     "text": [
      "map00061 23 / 41 Fatty acid biosynthesis\n",
      "map00680 19 / 37 Methane metabolism\n",
      "map00520 17 / 38 Amino sugar and nucleotide sugar metabolism\n",
      "map00790 16 / 42 Folate biosynthesis\n",
      "map00030 12 / 24 Pentose phosphate pathway\n",
      "map00130 12 / 16 Ubiquinone and other terpenoid-quinone biosynthesis\n",
      "map00860 12 / 38 Porphyrin metabolism\n",
      "map00230 10 / 69 Purine metabolism\n",
      "map00564 10 / 18 Glycerophospholipid metabolism\n",
      "map00552 10 / 10 Teichoic acid biosynthesis\n",
      "map00010 10 / 28 Glycolysis / Gluconeogenesis\n",
      "map00500 10 / 16 Starch and sucrose metabolism\n",
      "map00620 9 / 30 Pyruvate metabolism\n",
      "map00270 9 / 39 Cysteine and methionine metabolism\n",
      "map00561 9 / 13 Glycerolipid metabolism\n",
      "map00780 9 / 16 Biotin metabolism\n",
      "map00730 9 / 13 Thiamine metabolism\n",
      "map00330 8 / 24 Arginine and proline metabolism\n",
      "map00280 8 / 11 Valine, leucine and isoleucine degradation\n",
      "map00550 8 / 15 Peptidoglycan biosynthesis\n",
      "map00020 8 / 19 Citrate cycle (TCA cycle)\n",
      "map00910 8 / 15 Nitrogen metabolism\n",
      "map00900 7 / 15 Terpenoid backbone biosynthesis\n",
      "map00290 7 / 20 Valine, leucine and isoleucine biosynthesis\n",
      "map00640 6 / 10 Propanoate metabolism\n",
      "map00906 6 / 7 Carotenoid biosynthesis\n",
      "map00541 6 / 22 O-Antigen nucleotide sugar biosynthesis\n",
      "map00540 6 / 20 Lipopolysaccharide biosynthesis\n",
      "map00300 6 / 15 Lysine biosynthesis\n",
      "map00450 6 / 6 Selenocompound metabolism\n",
      "map00470 6 / 13 D-Amino acid metabolism\n",
      "map00361 6 / 6 Chlorocyclohexane and chlorobenzene degradation\n",
      "map00460 5 / 8 Cyanoamino acid metabolism\n",
      "map00920 5 / 14 Sulfur metabolism\n",
      "map00660 5 / 7 C5-Branched dibasic acid metabolism\n",
      "map00625 4 / 4 Chloroalkane and chloroalkene degradation\n",
      "map00630 4 / 19 Glyoxylate and dicarboxylate metabolism\n",
      "map00261 4 / 6 Monobactam biosynthesis\n",
      "map00710 4 / 14 Carbon fixation in photosynthetic organisms\n",
      "map00785 4 / 4 Lipoic acid metabolism\n",
      "map00360 4 / 7 Phenylalanine metabolism\n",
      "map00946 4 / 4 Degradation of flavonoids\n",
      "map00720 3 / 22 Carbon fixation pathways in prokaryotes\n",
      "map00340 3 / 11 Histidine metabolism\n",
      "map00740 3 / 11 Riboflavin metabolism\n",
      "map00350 3 / 12 Tyrosine metabolism\n",
      "map00380 3 / 7 Tryptophan metabolism\n",
      "map00627 3 / 3 Aminobenzoate degradation\n",
      "map00071 2 / 3 Fatty acid degradation\n",
      "map00623 2 / 2 Toluene degradation\n",
      "map00250 2 / 20 Alanine, aspartate and glutamate metabolism\n",
      "map00260 2 / 24 Glycine, serine and threonine metabolism\n",
      "map00750 2 / 4 Vitamin B6 metabolism\n",
      "map00310 2 / 4 Lysine degradation\n",
      "map00970 2 / 23 Aminoacyl-tRNA biosynthesis\n",
      "map00364 2 / 2 Fluorobenzoate degradation\n",
      "map00480 2 / 12 Glutathione metabolism\n",
      "map00311 2 / 2 Penicillin and cephalosporin biosynthesis\n",
      "map00240 2 / 41 Pyrimidine metabolism\n",
      "map00650 2 / 7 Butanoate metabolism\n",
      "map00626 2 / 2 Naphthalene degradation\n",
      "map00051 2 / 11 Fructose and mannose metabolism\n",
      "map00053 1 / 3 Ascorbate and aldarate metabolism\n",
      "map00562 1 / 5 Inositol phosphate metabolism\n",
      "map00770 1 / 17 Pantothenate and CoA biosynthesis\n",
      "map00405 1 / 2 Phenazine biosynthesis\n",
      "map00362 1 / 1 Benzoate degradation\n",
      "map00999 1 / 4 Biosynthesis of various plant secondary metabolites\n"
     ]
    }
   ],
   "source": [
    "unbigged_r_in_pw_count = K2B.pathway_count(cannotmaplist,R_in_pw_count)"
   ]
  },
  {
   "cell_type": "code",
   "execution_count": 9,
   "metadata": {},
   "outputs": [
    {
     "name": "stdout",
     "output_type": "stream",
     "text": [
      "map00230 59 / 69 Purine metabolism\n",
      "map00240 39 / 41 Pyrimidine metabolism\n",
      "map00270 30 / 39 Cysteine and methionine metabolism\n",
      "map00790 26 / 42 Folate biosynthesis\n",
      "map00860 26 / 38 Porphyrin metabolism\n",
      "map00260 22 / 24 Glycine, serine and threonine metabolism\n",
      "map00400 21 / 21 Phenylalanine, tyrosine and tryptophan biosynthesis\n",
      "map00620 21 / 30 Pyruvate metabolism\n",
      "map00520 21 / 38 Amino sugar and nucleotide sugar metabolism\n",
      "map00970 21 / 23 Aminoacyl-tRNA biosynthesis\n",
      "map00720 19 / 22 Carbon fixation pathways in prokaryotes\n",
      "map00250 18 / 20 Alanine, aspartate and glutamate metabolism\n",
      "map00680 18 / 37 Methane metabolism\n",
      "map00061 18 / 41 Fatty acid biosynthesis\n",
      "map00010 18 / 28 Glycolysis / Gluconeogenesis\n",
      "map00670 17 / 17 One carbon pool by folate\n",
      "map00760 17 / 17 Nicotinate and nicotinamide metabolism\n",
      "map00541 16 / 22 O-Antigen nucleotide sugar biosynthesis\n",
      "map00330 16 / 24 Arginine and proline metabolism\n",
      "map00770 16 / 17 Pantothenate and CoA biosynthesis\n",
      "map00630 15 / 19 Glyoxylate and dicarboxylate metabolism\n",
      "map00220 14 / 14 Arginine biosynthesis\n",
      "map00540 14 / 20 Lipopolysaccharide biosynthesis\n",
      "map00290 13 / 20 Valine, leucine and isoleucine biosynthesis\n",
      "map00030 12 / 24 Pentose phosphate pathway\n",
      "map00020 11 / 19 Citrate cycle (TCA cycle)\n",
      "map00480 10 / 12 Glutathione metabolism\n",
      "map00710 10 / 14 Carbon fixation in photosynthetic organisms\n",
      "map00920 9 / 14 Sulfur metabolism\n",
      "map00350 9 / 12 Tyrosine metabolism\n",
      "map00300 9 / 15 Lysine biosynthesis\n",
      "map00051 9 / 11 Fructose and mannose metabolism\n",
      "map00740 8 / 11 Riboflavin metabolism\n",
      "map00564 8 / 18 Glycerophospholipid metabolism\n",
      "map00900 8 / 15 Terpenoid backbone biosynthesis\n",
      "map00340 8 / 11 Histidine metabolism\n",
      "map00521 7 / 7 Streptomycin biosynthesis\n",
      "map00550 7 / 15 Peptidoglycan biosynthesis\n",
      "map00910 7 / 15 Nitrogen metabolism\n",
      "map00470 7 / 13 D-Amino acid metabolism\n",
      "map00780 7 / 16 Biotin metabolism\n",
      "map00500 6 / 16 Starch and sucrose metabolism\n",
      "map00650 5 / 7 Butanoate metabolism\n",
      "map00430 4 / 4 Taurine and hypotaurine metabolism\n",
      "map00130 4 / 16 Ubiquinone and other terpenoid-quinone biosynthesis\n",
      "map00730 4 / 13 Thiamine metabolism\n",
      "map00380 4 / 7 Tryptophan metabolism\n",
      "map00052 4 / 4 Galactose metabolism\n",
      "map00523 4 / 4 Polyketide sugar unit biosynthesis\n",
      "map00640 4 / 10 Propanoate metabolism\n",
      "map00040 4 / 4 Pentose and glucuronate interconversions\n",
      "map00562 4 / 5 Inositol phosphate metabolism\n",
      "map00561 4 / 13 Glycerolipid metabolism\n",
      "map00791 3 / 3 Atrazine degradation\n",
      "map00999 3 / 4 Biosynthesis of various plant secondary metabolites\n",
      "map00909 3 / 3 Sesquiterpenoid and triterpenoid biosynthesis\n",
      "map00966 3 / 3 Glucosinolate biosynthesis\n",
      "map00280 3 / 11 Valine, leucine and isoleucine degradation\n",
      "map00460 3 / 8 Cyanoamino acid metabolism\n",
      "map00360 3 / 7 Phenylalanine metabolism\n",
      "map00332 3 / 3 Carbapenem biosynthesis\n",
      "map00401 2 / 2 Novobiocin biosynthesis\n",
      "map00053 2 / 3 Ascorbate and aldarate metabolism\n",
      "map00750 2 / 4 Vitamin B6 metabolism\n",
      "map00261 2 / 6 Monobactam biosynthesis\n",
      "map00525 2 / 2 Acarbose and validamycin biosynthesis\n",
      "map00950 2 / 2 Isoquinoline alkaloid biosynthesis\n",
      "map00660 2 / 7 C5-Branched dibasic acid metabolism\n",
      "map00410 2 / 2 beta-Alanine metabolism\n",
      "map00310 2 / 4 Lysine degradation\n",
      "map00402 1 / 1 Benzoxazinoid biosynthesis\n",
      "map00960 1 / 1 Tropane, piperidine and pyridine alkaloid biosynthesis\n",
      "map00405 1 / 2 Phenazine biosynthesis\n",
      "map01055 1 / 1 Biosynthesis of vancomycin group antibiotics\n",
      "map00998 1 / 1 Biosynthesis of various antibiotics\n",
      "map00254 1 / 1 Aflatoxin biosynthesis\n",
      "map00524 1 / 1 Neomycin, kanamycin and gentamicin biosynthesis\n",
      "map00100 1 / 1 Steroid biosynthesis\n",
      "map00906 1 / 7 Carotenoid biosynthesis\n",
      "map00071 1 / 3 Fatty acid degradation\n"
     ]
    }
   ],
   "source": [
    "bigged_r_in_pw_count = K2B.pathway_count(mappedKEGGlist,R_in_pw_count)"
   ]
  },
  {
   "cell_type": "markdown",
   "metadata": {},
   "source": [
    "## get mapped Excel"
   ]
  },
  {
   "cell_type": "code",
   "execution_count": null,
   "metadata": {},
   "outputs": [],
   "source": [
    "import myModules.buildmodel as BM\n",
    "import cobra\n",
    "\n",
    "mapped_model = cobra.Model('mapped_in_BIGG')"
   ]
  },
  {
   "cell_type": "code",
   "execution_count": null,
   "metadata": {},
   "outputs": [],
   "source": [
    "BM.add_rxn_from_unibigg(mapped_model,mappedBIGGlist)"
   ]
  },
  {
   "cell_type": "code",
   "execution_count": null,
   "metadata": {},
   "outputs": [],
   "source": [
    "mapped_model"
   ]
  },
  {
   "cell_type": "code",
   "execution_count": null,
   "metadata": {},
   "outputs": [],
   "source": [
    "def find_key (dict, value):\n",
    "    keys = [k for k, v in dict.items() if v == value]\n",
    "    if len(keys)==1:\n",
    "        return keys[0]\n",
    "    else:\n",
    "        print(value + ' is not unique')\n",
    "        return keys[0]"
   ]
  },
  {
   "cell_type": "code",
   "execution_count": null,
   "metadata": {},
   "outputs": [
    {
     "name": "stdout",
     "output_type": "stream",
     "text": [
      "MOAT2 is not unique\n"
     ]
    }
   ],
   "source": [
    "import pandas as pd\n",
    "df_reaction = pd.DataFrame(columns=['ID','Name','Reaction','KEGG_ID','Pathway'])\n",
    "for rxn in mapped_model.reactions:\n",
    "    keggid = find_key(mappedBIGG,rxn.id)\n",
    "    df_reaction.loc[len(df_reaction)] = [rxn.id,rxn.name,rxn.reaction,keggid,K2B.getPathways(keggid)]\n",
    "df_reaction.to_excel(org_name+'\\\\01_'+org_name+'_export_mapped_reaction.xlsx',index=False)"
   ]
  },
  {
   "cell_type": "code",
   "execution_count": null,
   "metadata": {},
   "outputs": [],
   "source": [
    "df_cannotmappedreaction = pd.DataFrame(columns=['KEGG_ID','Pathway'])\n",
    "for rxn in cannotmaplist:\n",
    "    df_cannotmappedreaction.loc[len(df_cannotmappedreaction)] = [rxn,K2B.getPathways(rxn)]\n",
    "df_cannotmappedreaction.to_excel(org_name+'\\\\02_'+org_name+'_export_cannotmapped_reaction.xlsx',index=False)"
   ]
  },
  {
   "cell_type": "markdown",
   "metadata": {},
   "source": [
    "## Adjust by excel"
   ]
  },
  {
   "cell_type": "markdown",
   "metadata": {},
   "source": [
    "copy 01_export_mapped_reaction.xlsx as 03_import_reaction.xlsx"
   ]
  },
  {
   "cell_type": "code",
   "execution_count": 32,
   "metadata": {},
   "outputs": [],
   "source": [
    "import myModules.buildmodel as BM"
   ]
  },
  {
   "cell_type": "code",
   "execution_count": 50,
   "metadata": {},
   "outputs": [
    {
     "name": "stdout",
     "output_type": "stream",
     "text": [
      "UGLDDS1\tUDP N acetylmuramoyl L alanyl D glutamyl L lysyl D alanyl D alanine synthetase alpha glutamate \talaala_c + atp_c + uAgl_c --> adp_c + pi_c + uAgla_c\n",
      "UAAGLS2\tUDP-N-acetylmuramoyl-L-alanyl-D-glutamyl-L-lysine synthetase (gamma-glutamate)\tatp_c + lys__L_c + uamag_c --> adp_c + h_c + pi_c + uGgl_c\n"
     ]
    }
   ],
   "source": [
    "BM.print_rxn(BM.biggunimodel,'UGLDDS1','UAAGLS2')"
   ]
  },
  {
   "cell_type": "code",
   "execution_count": 40,
   "metadata": {},
   "outputs": [
    {
     "name": "stdout",
     "output_type": "stream",
     "text": [
      "udcpp_c\tUndecaprenyl phosphate\n"
     ]
    }
   ],
   "source": [
    "BM.print_metabolite(BM.biggunimodel,'udcpp_c')"
   ]
  },
  {
   "cell_type": "code",
   "execution_count": 45,
   "metadata": {},
   "outputs": [
    {
     "name": "stdout",
     "output_type": "stream",
     "text": [
      "frdp_c\tFarnesyl diphosphate\n"
     ]
    }
   ],
   "source": [
    "BM.print_metabolite(BM.biggunimodel,'frdp_c')"
   ]
  },
  {
   "cell_type": "code",
   "execution_count": null,
   "metadata": {},
   "outputs": [
    {
     "data": {
      "text/html": [
       "\n",
       "        <table>\n",
       "            <tr>\n",
       "                <td><strong>Metabolite identifier</strong></td><td>octdp_c</td>\n",
       "            </tr><tr>\n",
       "                <td><strong>Name</strong></td><td>All-trans-Octaprenyl diphosphate</td>\n",
       "            </tr><tr>\n",
       "                <td><strong>Memory address</strong></td>\n",
       "                <td>0x23e1307f1f0</td>\n",
       "            </tr><tr>\n",
       "                <td><strong>Formula</strong></td><td>None</td>\n",
       "            </tr><tr>\n",
       "                <td><strong>Compartment</strong></td><td></td>\n",
       "            </tr><tr>\n",
       "                <td><strong>In 9 reaction(s)</strong></td><td>\n",
       "                    DHNAOT_1, HBZOPT, OCTDPtm, OCTDPS, DHNAOT2, DHNAOT, DHNAOT4, ALAB, OPP\n",
       "                    </td>\n",
       "            </tr>\n",
       "        </table>"
      ],
      "text/plain": [
       "<Metabolite octdp_c at 0x23e1307f1f0>"
      ]
     },
     "metadata": {},
     "output_type": "display_data"
    }
   ],
   "source": [
    "BM.biggunimodel.metabolites.get_by_id('octdp_c')"
   ]
  },
  {
   "cell_type": "code",
   "execution_count": 44,
   "metadata": {},
   "outputs": [
    {
     "name": "stdout",
     "output_type": "stream",
     "text": [
      "BIOMASS_Ec_iJO1366_WT_53p95M\tE. coli biomass objective function (iJO1366) - WT - with 53.95 GAM estimate\t0.000223 10fthf_c + 0.000223 2dmmql8_c + 2.5e-05 2fe2s_c + 0.000248 4fe4s_c + 0.000223 5mthf_c + 0.000279 accoa_c + 0.000223 adocbl_c + 0.499149 ala__L_c + 0.000223 amet_c + 0.28742 arg__L_c + 0.234232 asn__L_c + 0.234232 asp__L_c + 54.119975 atp_c + 0.000116 bmocogdp_c + 2e-06 btn_c + 0.004952 ca2_c + 0.000223 chor_c + 0.004952 cl_c + 0.002944 clpn160_p + 0.00229 clpn161_p + 0.00118 clpn181_p + 0.000168 coa_c + 2.4e-05 cobalt2_c + 0.008151 colipa_e + 0.129799 ctp_c + 0.000674 cu2_c + 0.088988 cys__L_c + 0.024805 datp_c + 0.025612 dctp_c + 0.025612 dgtp_c + 0.024805 dttp_c + 0.000223 enter_c + 0.000223 fad_c + 0.006388 fe2_c + 0.007428 fe3_c + 0.255712 gln__L_c + 0.255712 glu__L_c + 0.595297 gly_c + 0.154187 glycogen_c + 0.000223 gthrd_c + 0.209121 gtp_c + 48.752916 h2o_c + 0.000223 hemeO_c + 0.092056 his__L_c + 0.282306 ile__L_c + 0.18569 k_c + 0.437778 leu__L_c + 3e-06 lipopb_c + 0.333448 lys__L_c + 3.1e-05 malcoa_c + 0.149336 met__L_c + 0.008253 mg2_c + 0.000223 mlthf_c + 0.000658 mn2_c + 7e-06 mobd_c + 7e-06 mococdp_c + 7e-06 mocogdp_c + 0.000223 mql8_c + 0.001345 murein3p3p_p + 0.000605 murein3px4p_p + 0.005381 murein4p4p_p + 0.005448 murein4px4p_p + 0.000673 murein4px4px4p_p + 0.001787 nad_c + 4.5e-05 nadh_c + 0.000112 nadp_c + 0.000335 nadph_c + 0.012379 nh4_c + 0.000307 ni2_c + 0.012366 pe160_c + 0.031798 pe160_p + 0.009618 pe161_c + 0.024732 pe161_p + 0.004957 pe181_c + 0.012747 pe181_p + 0.005707 pg160_c + 0.004892 pg160_p + 0.004439 pg161_c + 0.003805 pg161_p + 0.002288 pg181_c + 0.001961 pg181_p + 0.180021 phe__L_c + 0.000223 pheme_c + 0.214798 pro__L_c + 0.03327 ptrc_c + 0.000223 pydx5p_c + 0.000223 q8h2_c + 0.000223 ribflv_c + 0.209684 ser__L_c + 0.000223 sheme_c + 0.004126 so4_c + 0.006744 spmd_c + 9.8e-05 succoa_c + 0.000223 thf_c + 0.000223 thmpp_c + 0.246506 thr__L_c + 0.055234 trp__L_c + 0.133993 tyr__L_c + 5.5e-05 udcpdp_c + 0.140101 utp_c + 0.411184 val__L_c + 0.000324 zn2_c --> 53.95 adp_c + 53.95 h_c + 53.945874 pi_c + 0.749831 ppi_c\n",
      "PPTGS_KT\tPPTGS KT\tuaagmda_c --> h_c + peptido_kt_c + udcpdp_c\n",
      "UDCPDP\tUndecaprenyl-diphosphatase\th2o_c + udcpdp_c --> h_c + pi_c + udcpp_c\n",
      "BIOMASS_Ec_iAF1260_core_59p81M\tE. coli biomass objective function (iAF1260) - core - with 59.81 GAM estimate\t0.000223 10fthf_c + 0.000223 2ohph_c + 0.5137 ala__L_c + 0.000223 amet_c + 0.2958 arg__L_c + 0.2411 asn__L_c + 0.2411 asp__L_c + 59.984 atp_c + 0.004737 ca2_c + 0.004737 cl_c + 0.000576 coa_c + 0.003158 cobalt2_c + 0.1335 ctp_c + 0.003158 cu2_c + 0.09158 cys__L_c + 0.02617 datp_c + 0.02702 dctp_c + 0.02702 dgtp_c + 0.02617 dttp_c + 0.000223 fad_c + 0.007106 fe2_c + 0.007106 fe3_c + 0.2632 gln__L_c + 0.2632 glu__L_c + 0.6126 gly_c + 0.2151 gtp_c + 54.462 h2o_c + 0.09474 his__L_c + 0.2905 ile__L_c + 0.1776 k_c + 0.01945 kdo2lipid4_e + 0.4505 leu__L_c + 0.3432 lys__L_c + 0.1537 met__L_c + 0.007895 mg2_c + 0.000223 mlthf_c + 0.003158 mn2_c + 0.003158 mobd_c + 0.01389 murein5px4p_p + 0.001831 nad_c + 0.000447 nadp_c + 0.011843 nh4_c + 0.02233 pe160_c + 0.04148 pe160_p + 0.02632 pe161_c + 0.04889 pe161_p + 0.1759 phe__L_c + 0.000223 pheme_c + 0.2211 pro__L_c + 0.000223 pydx5p_c + 0.000223 ribflv_c + 0.2158 ser__L_c + 0.000223 sheme_c + 0.003948 so4_c + 0.000223 thf_c + 0.000223 thmpp_c + 0.2537 thr__L_c + 0.05684 trp__L_c + 0.1379 tyr__L_c + 5.5e-05 udcpdp_c + 0.1441 utp_c + 0.4232 val__L_c + 0.003158 zn2_c --> 59.81 adp_c + 59.81 h_c + 59.806 pi_c + 0.7739 ppi_c\n",
      "ICLIPAS\tInner core lipid A biosynthesis\t0.3128 gdpfuc_c + 0.0865 kdolipid4cy_c + 0.0558 unagam_c --> 0.3128 gdp_c + icolipacy_c + 0.0558 udcpdp_c\n",
      "UDPDPS\tUndecaprenyl-diphosphate synthase\tdecdp_c + ipdp_c --> ppi_c + udcpdp_c\n",
      "BIOMASS_KT2440_WT3\tBiomass P putida KT2440  aa DNA RNA ATP murein FA ions soluble \t0.000223 10fthf_c + 0.000223 2fe2s_c + 0.000223 4fe4s_c + 0.000223 5mthf_c + 0.000279 accoa_c + 0.000223 adocbl_c + 0.598267 ala__L_c + 0.000223 amet_c + 0.354251 arg__L_c + 0.158931 asn__L_c + 0.284685 asp__L_c + 46.918883 atp_c + 0.000223 bmocogdp_c + 0.000223 btamp_c + 0.004226 ca2_c + 0.000223 chor_c + 0.004226 cl_c + 1.8e-05 clpn140_p + 0.000578 clpn160_p + 0.002873 clpn161_p + 0.000192 clpn180_p + 0.001309 clpn181_p + 0.000167 coa_c + 0.002817 cobalt2_c + 0.00041 cpe160_c + 0.000226 cpg160_c + 0.159783 ctp_c + 0.002817 cu2_c + 0.055652 cys__L_c + 0.010804 datp_c + 0.01721 dctp_c + 0.017423 dgtp_c + 0.010854 dttp_c + 0.000223 fad_c + 0.00634 fe2_c + 0.00634 fe3_c + 0.251507 gln__L_c + 0.301809 glu__L_c + 0.431309 gly_c + 0.000223 gthrd_c + 0.210704 gtp_c + 41.397362 h2o_c + 0.000223 hemeO_c + 0.126289 his__L_c + 0.244551 ile__L_c + 0.158509 k_c + 0.628769 leu__L_c + 0.000223 lipopb_c + 0.008696 lpspput_e + 0.180336 lys__L_c + 3.1e-05 malcoa_c + 0.122008 met__L_c + 0.007044 mg2_c + 0.000223 mlthf_c + 0.002817 mn2_c + 0.002817 mobd_c + 0.000223 mocogdp_c + 0.001979 murein3p3p_p + 0.000326 murein3px4p_p + 0.007917 murein4p4p_p + 0.002941 murein4px4p_p + 6.6e-05 murein4px4px4p_p + 0.003522 na1_c + 0.001786 nad_c + 4.4e-05 nadh_c + 0.000111 nadp_c + 0.000335 nadph_c + 0.010567 nh4_c + 0.002817 ni2_c + 0.000251 pe140_c + 0.007882 pe160_c + 0.039155 pe161_c + 0.002622 pe180_c + 0.017845 pe181_c + 0.000138 pg140_c + 0.004354 pg160_c + 0.021632 pg161_c + 0.001449 pg180_c + 0.009859 pg181_c + 0.191038 phe__L_c + 0.000223 pheme_c + 0.000223 pqqh2_c + 0.26328 pro__L_c + 0.03327 ptrc_c + 0.000223 pydx5p_c + 0.000223 pyovd_kt_e + 0.000223 q8h2_c + 0.000223 ribflv_c + 0.301274 ser__L_c + 0.000223 sheme_c + 0.003522 so4_c + 9.8e-05 succoa_c + 0.000223 thf_c + 0.000223 thmnp_c + 0.000223 thmpp_c + 0.256324 thr__L_c + 0.077592 trp__L_c + 0.135921 tyr__L_c + 5.5e-05 udcpdp_c + 0.143215 utp_c + 0.389034 val__L_c + 0.002817 zn2_c --> 46.7502 adp_c + 46.7502 h_c + 46.746677 pi_c + 0.73868 ppi_c\n",
      "PPTGS_BS\tPeptidoglycan subunit synthesis\tuaagmda_c --> h_c + peptido_BS_c + udcpdp_c\n",
      "BIOMASS_Ec_iJO1366_core_53p95M\tE. coli biomass objective function (iJO1366) - core - with 53.95 GAM estimate\t0.000223 10fthf_c + 2.6e-05 2fe2s_c + 0.000223 2ohph_c + 0.00026 4fe4s_c + 0.513689 ala__L_c + 0.000223 amet_c + 0.295792 arg__L_c + 0.241055 asn__L_c + 0.241055 asp__L_c + 54.124831 atp_c + 0.000122 bmocogdp_c + 2e-06 btn_c + 0.005205 ca2_c + 0.005205 cl_c + 0.000576 coa_c + 2.5e-05 cobalt2_c + 0.133508 ctp_c + 0.000709 cu2_c + 0.09158 cys__L_c + 0.026166 datp_c + 0.027017 dctp_c + 0.027017 dgtp_c + 0.026166 dttp_c + 0.000223 fad_c + 0.006715 fe2_c + 0.007808 fe3_c + 0.26316 gln__L_c + 0.26316 glu__L_c + 0.612638 gly_c + 0.215096 gtp_c + 48.601527 h2o_c + 0.094738 his__L_c + 0.290529 ile__L_c + 0.195193 k_c + 0.019456 kdo2lipid4_e + 0.450531 leu__L_c + 0.343161 lys__L_c + 0.153686 met__L_c + 0.008675 mg2_c + 0.000223 mlthf_c + 0.000691 mn2_c + 7e-06 mobd_c + 0.013894 murein5px4p_p + 0.001831 nad_c + 0.000447 nadp_c + 0.013013 nh4_c + 0.000323 ni2_c + 0.017868 pe160_c + 0.045946 pe160_p + 0.054154 pe161_c + 0.02106 pe161_p + 0.185265 phe__L_c + 0.000223 pheme_c + 0.221055 pro__L_c + 0.000223 pydx5p_c + 0.000223 ribflv_c + 0.215792 ser__L_c + 0.000223 sheme_c + 0.004338 so4_c + 0.000223 thf_c + 0.000223 thmpp_c + 0.253687 thr__L_c + 0.056843 trp__L_c + 0.137896 tyr__L_c + 5.5e-05 udcpdp_c + 0.144104 utp_c + 0.423162 val__L_c + 0.000341 zn2_c --> 53.95 adp_c + 53.95 h_c + 53.945662 pi_c + 0.773903 ppi_c\n",
      "BIOMASS_Ec_iML1515_core_75p37M\tE. coli biomass objective function (iML1515) - core - with 75.37 GAM estimate\t0.000223 10fthf_c + 2.6e-05 2fe2s_c + 0.000223 2ohph_c + 0.00026 4fe4s_c + 0.513689 ala__L_c + 0.000223 amet_c + 0.295792 arg__L_c + 0.241055 asn__L_c + 0.241055 asp__L_c + 75.55223 atp_c + 2e-06 btn_c + 0.005205 ca2_c + 0.005205 cl_c + 0.000576 coa_c + 2.5e-05 cobalt2_c + 0.133508 ctp_c + 0.000709 cu2_c + 0.09158 cys__L_c + 0.026166 datp_c + 0.027017 dctp_c + 0.027017 dgtp_c + 0.026166 dttp_c + 0.000223 fad_c + 0.006715 fe2_c + 0.007808 fe3_c + 0.26316 gln__L_c + 0.26316 glu__L_c + 0.612638 gly_c + 0.215096 gtp_c + 70.028756 h2o_c + 0.094738 his__L_c + 0.290529 ile__L_c + 0.195193 k_c + 0.019456 kdo2lipid4_e + 0.450531 leu__L_c + 0.343161 lys__L_c + 0.153686 met__L_c + 0.008675 mg2_c + 0.000223 mlthf_c + 0.000691 mn2_c + 7e-06 mobd_c + 0.013894 murein5px4p_p + 0.001831 nad_c + 0.000447 nadp_c + 0.013013 nh4_c + 0.000323 ni2_c + 0.063814 pe160_p + 0.075214 pe161_p + 0.185265 phe__L_c + 0.000223 pheme_c + 0.221055 pro__L_c + 0.000223 pydx5p_c + 0.000223 ribflv_c + 0.215792 ser__L_c + 0.000223 sheme_c + 0.004338 so4_c + 9.8e-05 succoa_c + 0.000223 thf_c + 0.000223 thmpp_c + 0.253687 thr__L_c + 0.056843 trp__L_c + 0.137896 tyr__L_c + 5.5e-05 udcpdp_c + 0.144104 utp_c + 0.423162 val__L_c + 0.000341 zn2_c --> 75.37723 adp_c + 75.37723 h_c + 75.37323 pi_c + 0.773903 ppi_c\n",
      "BIOMASS_COFACTORS\tBiomass: cofactor pool\t0.0213 5mthf_c + 0.0043 adocbl_c + 0.022 btamp_c + 0.016 coa_c + 0.0214 fad_c + 0.6518 fe2_c + 0.6518 fe3_c + 1.5013 gthbpt_c + 0.0213 hemeO_c + 0.0013 k_c + 0.022 lipopb_c + 0.0214 mlthf_c + 0.0001 na1_c + 0.1708 nad_c + 0.0043 nadh_c + 0.0107 nadp_c + 0.032 nadph_c + 0.0169 phllqne_c + 0.015 pq_um + 0.0344 ptrc_c + 0.022 pydx5p_c + 0.0213 sheme_c + 0.0736 spmd_c + 0.0214 thf_c + 0.0213 thmpp_c + 0.0096 udcpdp_c --> bm_cofactors_c\n",
      "PPTGS_TB2\tPPTGS TB2\tuaaGgla_c --> h_c + peptido_TB2_c + udcpdp_c\n",
      "BIOMASS_LLA\tBiomass equation LLA specific\t0.0064 CPS_LLA_c + 0.00074 DNA_LLA_c + 0.00015 LTAAlaGal_LLA_c + 0.119 PG_c + 0.004201 PROT_LLA_v3_c + 0.00329 RNA_LLA_c + 39.4 atp_c + 0.000138 clpn_LLA_c + 0.0002 coa_c + 9.6e-05 d12dg_LLA_c + 39.4 h2o_c + 1.3e-05 lyspg_LLA_c + 1.3e-05 m12dg_LLA_c + 0.002 nad_c + 6.1e-05 pg_LLA_c + 1e-05 thf_c + 1e-05 thmpp_c + 0.0002 udcpdp_c --> 39.4 adp_c + 39.4 h_c + 39.4 pi_c\n",
      "PGGT2\tPeptidoglycan glycosyltransferase\tuaaAgla_c --> PG_c + udcpdp_c\n",
      "UDCPDPS\tUndecaprenyl diphosphate synthase\tfrdp_c + 8.0 ipdp_c --> 8.0 ppi_c + udcpdp_c\n",
      "BIOMASS_Ec_SynHetero_1\tHeterotrophic Biomass Growth\t0.000223 10fthf_c + 0.000223 5mthf_c + 0.000279 accoa_c + 0.000223 adocbl_c + 0.39075 ala__L_c + 0.000223 amet_c + 0.23195 arg__L_c + 0.18658 asn__L_c + 0.23149 asp__L_c + 39.3462 atp_c + 0.00026324 avite1_c + 1.4478e-05 bvite_c + 0.004512 ca2_c + 0.0034222 caro_c + 0.021191 cholphya_c + 0.000223 chor_c + 0.0001675 coa_c + 0.0030293 cobalt2_c + 0.1241 ctp_c + 0.003008 cu2_c + 0.045834 cys__L_c + 0.026311 datp_c + 0.024022 dctp_c + 0.020767 dgdg160_c + 0.0015338 dgdg161_c + 0.0003552 dgdg180_c + 0.00046418 dgdg181_9_c + 0.00046418 dgdg181_c + 0.0053017 dgdg182_9_12_c + 0.011532 dgdg183_6_9_12_c + 0.00015136 dgdg183_9_12_15_c + 0.00062563 dgdg184_6_9_12_15_c + 0.024092 dgtp_c + 0.00022376 dtocophe_c + 0.026402 dttp_c + 0.025228 e11_p + 0.0025182 echin_c + 0.0002233 fad_c + 0.006816 fe2_c + 0.006816 fe3_c + 0.0016142 gcarote_c + 0.25602 gln__L_c + 0.27871 glu__L_c + 0.33982 gly_c + 0.000223 gthrd_c + 1.4478e-05 gtocophe_c + 0.13259 gtp_c + 34.6099 h2o_c + 0.000223 hemeA_c + 0.000223 hemeO_c + 0.085649 his__L_c + 0.28889 ile__L_c + 0.1692 k_c + 0.52501 leu__L_c + 0.025228 lipidAds_c + 0.1926 lys__L_c + 3.1267e-05 malcoa_c + 0.090279 met__L_c + 0.0075733 mg2_c + 0.030329 mgdg160_c + 0.0017653 mgdg161_c + 7.8137e-05 mgdg180_c + 0.00072349 mgdg181_9_c + 0.00072349 mgdg181_c + 0.0096572 mgdg182_9_12_c + 0.014397 mgdg183_6_9_12_c + 7.2349e-05 mgdg183_9_12_15_c + 0.00043409 mgdg184_6_9_12_15_c + 0.0002233 mlthf_c + 0.003029 mn2_c + 0.0030293 mobd_c + 0.003787 na1_c + 0.0017867 nad_c + 4.4667e-05 nadh_c + 0.00011167 nadp_c + 0.000335 nadph_c + 0.01136 nh4_c + 0.0079965 pg160_c + 0.00013632 pg161_c + 0.00027416 pg180_c + 0.00051025 pg181_9_c + 0.00051025 pg181_c + 0.0051823 pg182_9_12_c + 1e-06 pg183_6_9_12_c + 0.0012947 pg183_9_12_15_c + 1e-06 pg184_6_9_12_15_c + 0.18473 phe__L_c + 0.00022333 pheme_c + 0.0016444 phllqne_c + 0.23611 pro__L_c + 0.03327 ptrc_c + 0.00022333 ribflv_c + 0.26713 ser__L_c + 0.003787 so4_c + 0.0067443 spmd_c + 0.023887 sqdg160_c + 0.0027596 sqdg161_c + 0.00052434 sqdg180_c + 0.0030684 sqdg181_9_c + 0.0030684 sqdg181_c + 0.0081564 sqdg182_9_12_c + 0.00025246 sqdg183_6_9_12_c + 0.00034956 sqdg183_9_12_15_c + 1e-06 sqdg184_6_9_12_15_c + 9.8267e-05 succoa_c + 0.00022333 thf_c + 0.25278 thr__L_c + 0.071297 trp__L_c + 0.13426 tyr__L_c + 5.353e-05 udcpdp_c + 0.13735 utp_c + 0.31019 val__L_c + 0.0029056 zeax_c + 0.003008 zn2_c --> 39.21 adp_c + 39.21 h_c + 39.2062 pi_c + 0.63107 ppi_c\n",
      "UDPDPS2\tUDPDPS2\tdecdp_tb_c + ipdp_c --> ppi_c + udcpdp_c\n",
      "PPTGS_TM\tPeptidoglycan subunit synthesis\tuaaGgla_c --> h_c + peptido_TM_c + udcpdp_c\n",
      "BIOMASS_LLA_noATPnoH\tBiomass equation LLA specific\t0.0064 CPS_LLA_c + 0.00074 DNA_LLA_c + 0.00015 LTAAlaGal_LLA_c + 0.119 PG_c + 0.004201 PROT_LLA_v3_c + 0.00329 RNA_LLA_c + 0.000138 clpn_LLA_c + 0.0002 coa_c + 9.6e-05 d12dg_LLA_c + h2o_c + 1.3e-05 lyspg_LLA_c + 1.3e-05 m12dg_LLA_c + 0.002 nad_c + 6.1e-05 pg_LLA_c + 1e-05 thf_c + 1e-05 thmpp_c + 0.0002 udcpdp_c --> \n",
      "UDPDPRD\tUndecaprenyl-diphosphate reductase\th_c + nadph_c + udcpdp_c --> doldp11_c + nadp_c\n",
      "BIOMASS_invivo\tBiomass equation adapted to in vivo conditions\t0.000223 10fthf_c + 0.000188 12dgr2_ST_p + 5e-05 accoa_c + 0.000223 amet_c + 0.001 amp_c + 48.46244 atp_c + 0.004737 ca2_c + 0.004737 cl_c + 1.4e-05 clpn2_ST_p + 6e-06 coa_c + 0.003158 cobalt2_c + 0.000937 colipaOAmin_e + 0.166895 ctp_c + 0.003158 cu2_c + 0.026137 datp_c + 0.028567 dctp_c + 0.028567 dgtp_c + 0.026137 dttp_c + 1e-07 eca4colipamin_e + 1e-05 fad_c + 0.007106 fe2_c + 0.02975 gthrd_p + 0.186332 gtp_c + 41.802037 h2o_c + 0.1776 k_c + 0.007895 mg2_c + 0.000223 mlthf_c + 0.003158 mn2_c + 0.003158 mobd_c + 0.00215 nad_c + 5e-05 nadh_c + 0.00013 nadp_c + 0.0004 nadph_c + 0.011843 nh4_c + 4e-06 pa2_ST_p + 0.001531 pe2_ST_p + peptide_c + 0.049404 peptido_ST_p + 0.00042 pg2_ST_p + 0.000223 pheme_c + 4e-06 ps2_ST_p + 0.035 ptrc_c + 0.000223 pydx5p_c + 0.000223 q8_c + 0.000223 ribflv_c + 0.003948 so4_c + 3e-06 succoa_c + 0.000223 thf_c + 0.000223 thmpp_c + 5.5e-05 udcpdp_c + 0.003 udpg_c + 0.154549 utp_c + 0.003158 zn2_c --> 48.308092 adp_c + 46.765028 h_c + 48.308092 pi_c + 0.771532 ppi_c\n",
      "IPDPUDCT\t\tggdp_c + 7.0 ipdp_c --> 7.0 ppi_c + udcpdp_c\n",
      "BIOMASS_Ec_SynAuto_1\tAutotrophic Biomass Growth\t0.000223 10fthf_c + 0.000223 5mthf_c + 0.000279 accoa_c + 0.000223 adocbl_c + 0.39075 ala__L_c + 0.000223 amet_c + 0.23195 arg__L_c + 0.18658 asn__L_c + 0.23149 asp__L_c + 53.4862 atp_c + 0.00026324 avite1_c + 1.4478e-05 bvite_c + 0.004512 ca2_c + 0.0034222 caro_c + 0.021191 cholphya_c + 0.000223 chor_c + 0.0001675 coa_c + 0.0030293 cobalt2_c + 0.1241 ctp_c + 0.003008 cu2_c + 0.045834 cys__L_c + 0.026311 datp_c + 0.024022 dctp_c + 0.020767 dgdg160_c + 0.0015338 dgdg161_c + 0.0003552 dgdg180_c + 0.00046418 dgdg181_9_c + 0.00046418 dgdg181_c + 0.0053017 dgdg182_9_12_c + 0.011532 dgdg183_6_9_12_c + 0.00015136 dgdg183_9_12_15_c + 0.00062563 dgdg184_6_9_12_15_c + 0.024092 dgtp_c + 0.00022376 dtocophe_c + 0.026402 dttp_c + 0.025228 e11_p + 0.0025182 echin_c + 0.0002233 fad_c + 0.006816 fe2_c + 0.006816 fe3_c + 0.0016142 gcarote_c + 0.25602 gln__L_c + 0.27871 glu__L_c + 0.33982 gly_c + 0.21031 glycogen_c + 0.000223 gthrd_c + 1.4478e-05 gtocophe_c + 0.13259 gtp_c + 48.7499 h2o_c + 0.000223 hemeA_c + 0.000223 hemeO_c + 0.085649 his__L_c + 0.28889 ile__L_c + 0.1692 k_c + 0.52501 leu__L_c + 0.025228 lipidAds_c + 0.1926 lys__L_c + 3.1267e-05 malcoa_c + 0.090279 met__L_c + 0.0075733 mg2_c + 0.030329 mgdg160_c + 0.0017653 mgdg161_c + 7.8137e-05 mgdg180_c + 0.00072349 mgdg181_9_c + 0.00072349 mgdg181_c + 0.0096572 mgdg182_9_12_c + 0.014397 mgdg183_6_9_12_c + 7.2349e-05 mgdg183_9_12_15_c + 0.00043409 mgdg184_6_9_12_15_c + 0.0002233 mlthf_c + 0.003029 mn2_c + 0.0030293 mobd_c + 0.003787 na1_c + 0.0017867 nad_c + 4.4667e-05 nadh_c + 0.00011167 nadp_c + 0.000335 nadph_c + 0.01136 nh4_c + 0.0079965 pg160_c + 0.00013632 pg161_c + 0.00027416 pg180_c + 0.00051025 pg181_9_c + 0.00051025 pg181_c + 0.0051823 pg182_9_12_c + 1e-06 pg183_6_9_12_c + 0.0012947 pg183_9_12_15_c + 1e-06 pg184_6_9_12_15_c + 0.18473 phe__L_c + 0.00022333 pheme_c + 0.0016444 phllqne_c + 0.23611 pro__L_c + 0.03327 ptrc_c + 0.00022333 ribflv_c + 0.26713 ser__L_c + 0.003787 so4_c + 0.0067443 spmd_c + 0.023887 sqdg160_c + 0.0027596 sqdg161_c + 0.00052434 sqdg180_c + 0.0030684 sqdg181_9_c + 0.0030684 sqdg181_c + 0.0081564 sqdg182_9_12_c + 0.00025246 sqdg183_6_9_12_c + 0.00034956 sqdg183_9_12_15_c + 1e-06 sqdg184_6_9_12_15_c + 9.8267e-05 succoa_c + 0.00022333 thf_c + 0.25278 thr__L_c + 0.071297 trp__L_c + 0.13426 tyr__L_c + 5.353e-05 udcpdp_c + 0.13735 utp_c + 0.31019 val__L_c + 0.0029056 zeax_c + 0.003008 zn2_c --> 53.35 adp_c + 53.35 h_c + 53.3462 pi_c + 0.63107 ppi_c\n",
      "ECAP_EC\tECA polymerization (Ecoli)\tunagamuf_c --> eca_EC_c + h_c + udcpdp_c\n",
      "PPEPTIDO\t\tuaagtmda_c --> ppeptido_c + udcpdp_c\n",
      "MPTG\tMurein polymerizing transglycosylase\t2.0 uaagmda_c --> 2.0 h_c + murein5p5p_p + 2.0 udcpdp_c\n",
      "BIOMASS_Ecoli_TM\tBiomass Thermotoga - values taken from iJR904\t0.05 5mthf_c + 0.003495 TM_GL1_c + 0.003495 TM_GL2_c + 5e-05 accoa_c + 0.488 ala__L_c + 0.001 amp_c + 0.281 arg__L_c + 0.458 asp__L_c + 45.7318 atp_c + 6e-06 coa_c + 0.126 ctp_c + 0.087 cys__L_c + 0.0247 datp_c + 0.0254 dctp_c + 0.0254 dgtp_c + 0.001398 dmosACP_c + 0.001398 dmtaACP_c + 0.0247 dttp_c + 1e-05 fad_c + 0.25 gln__L_c + 0.25 glu__L_c + 0.582 gly_c + 0.154 glycogen_c + 0.203 gtp_c + 45.5608 h2o_c + 0.09 his__L_c + 0.276 ile__L_c + 0.428 leu__L_c + 0.326 lys__L_c + 0.146 met__L_c + 0.00215 nad_c + 5e-05 nadh_c + 0.00013 nadp_c + 0.0004 nadph_c + 0.001398 pa160_c + 0.0276 peptido_TM_c + 0.001398 pgp160_c + 0.176 phe__L_c + 0.21 pro__L_c + 0.035 ptrc_c + 0.205 ser__L_c + 0.007 spmd_c + 3e-06 succoa_c + 0.241 thr__L_c + 0.054 trp__L_c + 0.131 tyr__L_c + 0.001398 udcpdp_c + 0.136 utp_c + 0.402 val__L_c --> 45.5608 adp_c + 45.56035 h_c + 45.5628 pi_c + 0.7302 ppi_c\n",
      "PPTGS\tPeptidoglycan subunit synthesis\tuaagmda_c --> h_c + peptido_EC_c + udcpdp_c\n",
      "UDPDPS3\tUndecaprenyl-diphosphate synthase\t7.0 ipdp_c + ttc_ggdp_c --> 7.0 ppi_c + udcpdp_c\n",
      "PPTGS_TB1\tPPTGS TB1\tuaaAgla_c --> h_c + peptido_TB1_c + udcpdp_c\n",
      "BIOMASS_Ec_iML1515_WT_75p37M\tE. coli biomass objective function (iML1515) - WT - with 75.37 GAM estimate\t0.000223 10fthf_c + 0.000223 2dmmql8_c + 2.5e-05 2fe2s_c + 0.000248 4fe4s_c + 0.000223 5mthf_c + 0.000279 accoa_c + 0.000223 adocbl_c + 0.499149 ala__L_c + 0.000223 amet_c + 0.28742 arg__L_c + 0.234232 asn__L_c + 0.234232 asp__L_c + 75.55223 atp_c + 2e-06 btn_c + 0.004952 ca2_c + 0.000223 chor_c + 0.004952 cl_c + 0.002944 clpn160_p + 0.00229 clpn161_p + 0.00118 clpn181_p + 0.000168 coa_c + 2.4e-05 cobalt2_c + 0.008151 colipa_e + 0.129799 ctp_c + 0.000674 cu2_c + 0.088988 cys__L_c + 0.024805 datp_c + 0.025612 dctp_c + 0.025612 dgtp_c + 0.024805 dttp_c + 0.000223 enter_c + 0.000223 fad_c + 0.006388 fe2_c + 0.007428 fe3_c + 0.255712 gln__L_c + 0.255712 glu__L_c + 0.595297 gly_c + 0.154187 glycogen_c + 0.000223 gthrd_c + 0.209121 gtp_c + 70.028756 h2o_c + 0.000223 hemeO_c + 0.092056 his__L_c + 0.282306 ile__L_c + 0.18569 k_c + 0.437778 leu__L_c + 3e-06 lipopb_c + 0.333448 lys__L_c + 3.1e-05 malcoa_c + 0.149336 met__L_c + 0.008253 mg2_c + 0.000223 mlthf_c + 0.000658 mn2_c + 7e-06 mobd_c + 7e-06 mococdp_c + 7e-06 mocogdp_c + 0.000223 mql8_c + 0.001345 murein3p3p_p + 0.000605 murein3px4p_p + 0.005381 murein4p4p_p + 0.005448 murein4px4p_p + 0.000673 murein4px4px4p_p + 0.001787 nad_c + 4.5e-05 nadh_c + 0.000112 nadp_c + 0.000335 nadph_c + 0.012379 nh4_c + 0.000307 ni2_c + 0.044164 pe160_p + 0.03435 pe161_p + 0.017704 pe181_p + 0.010599 pg160_p + 0.008244 pg161_p + 0.004249 pg181_p + 0.180021 phe__L_c + 0.000223 pheme_c + 0.214798 pro__L_c + 0.03327 ptrc_c + 0.000223 pydx5p_c + 0.000223 q8h2_c + 0.000223 ribflv_c + 0.209684 ser__L_c + 0.000223 sheme_c + 0.004126 so4_c + 0.006744 spmd_c + 9.8e-05 succoa_c + 0.000223 thf_c + 0.000223 thmpp_c + 0.246506 thr__L_c + 0.055234 trp__L_c + 0.133993 tyr__L_c + 5.5e-05 udcpdp_c + 0.140101 utp_c + 0.411184 val__L_c + 0.000324 zn2_c --> 75.37723 adp_c + 75.37723 h_c + 75.37323 pi_c + 0.749831 ppi_c\n",
      "BIOMASS_Gm_GS15_WT_79p20M\tGeobacter metallireducens biomass objective function (iAF987) - WT - with 79.20 GAM estimate\t0.000223 10fthf_c + 0.000223 2dmmql8_c + 2.5e-05 2fe2s_c + 0.000248 4fe4s_c + 0.000223 5mthf_c + 0.000279 accoa_c + 0.000223 adocbl_c + 0.49649 ala__L_c + 0.000223 amet_c + 0.28589 arg__L_c + 0.23298 asn__L_c + 0.23298 asp__L_c + 79.298747 atp_c + 0.000116 bmocogdp_c + 2e-06 btn_c + 0.004954 ca2_c + 0.000223 chor_c + 0.004954 cl_c + 0.00122 clpn140_p + 0.003683 clpn160_p + 0.005393 clpn161_p + 0.000215 clpn181_p + 0.000168 coa_c + 2.4e-05 cobalt2_c + 0.075407 ctp_c + 0.000675 cu2_c + 0.088513 cys__L_c + 0.032312 datp_c + 0.047392 dctp_c + 0.047392 dgtp_c + 0.032312 dttp_c + 0.000223 fad_c + 0.013822 fe2_c + 0.254349 gln__L_c + 0.254349 glu__L_c + 0.592125 gly_c + 0.185024 glycogen_c + 0.013207 gm1lipa_e + 0.121489 gtp_c + 74.030609 h2o_c + 0.000223 hemeO_c + 0.091566 his__L_c + 0.2808 ile__L_c + 0.18579 k_c + 0.43545 leu__L_c + 0.33167 lys__L_c + 3.1e-05 malcoa_c + 0.14854 met__L_c + 0.008257 mg2_c + 0.000223 mlthf_c + 0.000658 mn2_c + 7e-06 mobd_c + 7e-06 mocogdp_c + 0.000223 mql8_c + 0.001614 murein3p3p_p + 0.000726 murein3px4p_p + 0.006457 murein4p4p_p + 0.006538 murein4px4p_p + 0.000807 murein4px4px4p_p + 0.001787 nad_c + 4.5e-05 nadh_c + 0.000112 nadp_c + 0.000335 nadph_c + 0.012386 nh4_c + 0.000307 ni2_c + 0.005125 pe140_c + 0.013178 pe140_p + 0.015467 pe160_c + 0.039773 pe160_p + 0.022649 pe161_c + 0.058241 pe161_p + 0.002327 pe181_c + 0.000905 pe181_p + 0.002372 pg140_c + 0.002021 pg140_p + 0.007159 pg160_c + 0.006098 pg160_p + 0.010483 pg161_c + 0.00893 pg161_p + 0.000357 pg181_c + 0.000419 pg181_p + 0.179062 phe__L_c + 0.000223 pheme_c + 0.213653 pro__L_c + 0.030683 ptrc_c + 0.000223 pydx5p_c + 0.000223 ribflv_c + 0.208566 ser__L_c + 0.000223 sheme_c + 0.004129 so4_c + 0.00607 spmd_c + 9.8e-05 succoa_c + 0.000223 thf_c + 0.000223 thmpp_c + 0.245193 thr__L_c + 0.054939 trp__L_c + 0.13328 tyr__L_c + 5.5e-05 udcpdp_c + 0.081392 utp_c + 0.408993 val__L_c + 0.000325 zn2_c --> 79.2 adp_c + 79.2 h_c + 79.195871 pi_c + 0.536443 ppi_c\n",
      "MPTG2\tMurein polymerizing transglycosylase 2 (three linked units)\tmurein5p5p_p + uaagmda_c --> h_c + murein5p5p5p_p + udcpdp_c\n",
      "BIOMASS_Ec_SynMixo_1\tMixotrophic Biomass Growth\t0.000223 10fthf_c + 0.000223 5mthf_c + 0.000279 accoa_c + 0.000223 adocbl_c + 0.39075 ala__L_c + 0.000223 amet_c + 0.23195 arg__L_c + 0.18658 asn__L_c + 0.23149 asp__L_c + 38.5262 atp_c + 0.00026324 avite1_c + 1.4478e-05 bvite_c + 0.004512 ca2_c + 0.0034222 caro_c + 0.021191 cholphya_c + 0.000223 chor_c + 0.0001675 coa_c + 0.0030293 cobalt2_c + 0.1241 ctp_c + 0.003008 cu2_c + 0.045834 cys__L_c + 0.026311 datp_c + 0.024022 dctp_c + 0.020767 dgdg160_c + 0.0015338 dgdg161_c + 0.0003552 dgdg180_c + 0.00046418 dgdg181_9_c + 0.00046418 dgdg181_c + 0.0053017 dgdg182_9_12_c + 0.011532 dgdg183_6_9_12_c + 0.00015136 dgdg183_9_12_15_c + 0.00062563 dgdg184_6_9_12_15_c + 0.024092 dgtp_c + 0.00022376 dtocophe_c + 0.026402 dttp_c + 0.025228 e11_p + 0.0025182 echin_c + 0.0002233 fad_c + 0.006816 fe2_c + 0.006816 fe3_c + 0.0016142 gcarote_c + 0.25602 gln__L_c + 0.27871 glu__L_c + 0.33982 gly_c + 0.000223 gthrd_c + 1.4478e-05 gtocophe_c + 0.13259 gtp_c + 33.7899 h2o_c + 0.000223 hemeA_c + 0.000223 hemeO_c + 0.085649 his__L_c + 0.28889 ile__L_c + 0.1692 k_c + 0.52501 leu__L_c + 0.025228 lipidAds_c + 0.1926 lys__L_c + 3.1267e-05 malcoa_c + 0.090279 met__L_c + 0.0075733 mg2_c + 0.030329 mgdg160_c + 0.0017653 mgdg161_c + 7.8137e-05 mgdg180_c + 0.00072349 mgdg181_9_c + 0.00072349 mgdg181_c + 0.0096572 mgdg182_9_12_c + 0.014397 mgdg183_6_9_12_c + 7.2349e-05 mgdg183_9_12_15_c + 0.00043409 mgdg184_6_9_12_15_c + 0.0002233 mlthf_c + 0.003029 mn2_c + 0.0030293 mobd_c + 0.003787 na1_c + 0.0017867 nad_c + 4.4667e-05 nadh_c + 0.00011167 nadp_c + 0.000335 nadph_c + 0.01136 nh4_c + 0.0079965 pg160_c + 0.00013632 pg161_c + 0.00027416 pg180_c + 0.00051025 pg181_9_c + 0.00051025 pg181_c + 0.0051823 pg182_9_12_c + 1e-06 pg183_6_9_12_c + 0.0012947 pg183_9_12_15_c + 1e-06 pg184_6_9_12_15_c + 0.18473 phe__L_c + 0.00022333 pheme_c + 0.0016444 phllqne_c + 0.23611 pro__L_c + 0.03327 ptrc_c + 0.00022333 ribflv_c + 0.26713 ser__L_c + 0.003787 so4_c + 0.0067443 spmd_c + 0.023887 sqdg160_c + 0.0027596 sqdg161_c + 0.00052434 sqdg180_c + 0.0030684 sqdg181_9_c + 0.0030684 sqdg181_c + 0.0081564 sqdg182_9_12_c + 0.00025246 sqdg183_6_9_12_c + 0.00034956 sqdg183_9_12_15_c + 1e-06 sqdg184_6_9_12_15_c + 9.8267e-05 succoa_c + 0.00022333 thf_c + 0.25278 thr__L_c + 0.071297 trp__L_c + 0.13426 tyr__L_c + 5.353e-05 udcpdp_c + 0.13735 utp_c + 0.31019 val__L_c + 0.0029056 zeax_c + 0.003008 zn2_c --> 38.39 adp_c + 38.39 h_c + 38.3862 pi_c + 0.63107 ppi_c\n",
      "BIOMASS_Ec_SynAuto\tAutotrophic Biomass Ecuation\t0.000223 10fthf_c + 0.000223 5mthf_c + 0.000279 accoa_c + 0.000223 adocbl_c + 0.39075 ala__L_c + 0.000223 amet_c + 0.23195 arg__L_c + 0.18658 asn__L_c + 0.23149 asp__L_c + 53.4862 atp_c + 0.00026324 avite1_c + 1.4478e-05 bvite_c + 0.004512 ca2_c + 0.0034222 caro_c + 0.021191 cholphya_c + 0.000223 chor_c + 0.0001675 coa_c + 0.0030293 cobalt2_c + 0.1241 ctp_c + 0.003008 cu2_c + 0.045834 cys__L_c + 0.026311 datp_c + 0.024022 dctp_c + 0.020767 dgdg160_c + 0.0015338 dgdg161_c + 0.0003552 dgdg180_c + 0.00046418 dgdg181_9_c + 0.00046418 dgdg181_c + 0.0053017 dgdg182_9_12_c + 0.011532 dgdg183_6_9_12_c + 0.00015136 dgdg183_9_12_15_c + 0.00062563 dgdg184_6_9_12_15_c + 0.024092 dgtp_c + 0.00022376 dtocophe_c + 0.026402 dttp_c + 0.0025182 echin_c + 0.0002233 fad_c + 0.006816 fe2_c + 0.006816 fe3_c + 0.0016142 gcarote_c + 0.25602 gln__L_c + 0.27871 glu__L_c + 0.33982 gly_c + 0.21031 glycogen_c + 0.000223 gthrd_c + 1.4478e-05 gtocophe_c + 0.13259 gtp_c + 48.7499 h2o_c + 0.000223 hemeA_c + 0.000223 hemeO_c + 0.085649 his__L_c + 0.28889 ile__L_c + 0.1692 k_c + 0.52501 leu__L_c + 0.025228 lipidAds_c + 0.1926 lys__L_c + 3.1267e-05 malcoa_c + 0.090279 met__L_c + 0.0075733 mg2_c + 0.030329 mgdg160_c + 0.0017653 mgdg161_c + 7.8137e-05 mgdg180_c + 0.00072349 mgdg181_9_c + 0.00072349 mgdg181_c + 0.0096572 mgdg182_9_12_c + 0.014397 mgdg183_6_9_12_c + 7.2349e-05 mgdg183_9_12_15_c + 0.00043409 mgdg184_6_9_12_15_c + 0.0002233 mlthf_c + 0.003029 mn2_c + 0.0030293 mobd_c + 0.003787 na1_c + 0.0017867 nad_c + 4.4667e-05 nadh_c + 0.00011167 nadp_c + 0.000335 nadph_c + 0.01136 nh4_c + 0.025228 peptido_syn_p + 0.0079965 pg160_c + 0.00013632 pg161_c + 0.00027416 pg180_c + 0.00051025 pg181_9_c + 0.00051025 pg181_c + 0.0051823 pg182_9_12_c + 1e-06 pg183_6_9_12_c + 0.0012947 pg183_9_12_15_c + 1e-06 pg184_6_9_12_15_c + 0.18473 phe__L_c + 0.00022333 pheme_c + 0.0016444 phllqne_c + 0.23611 pro__L_c + 0.03327 ptrc_c + 0.00022333 ribflv_c + 0.26713 ser__L_c + 0.003787 so4_c + 0.0067443 spmd_c + 0.023887 sqdg160_c + 0.0027596 sqdg161_c + 0.00052434 sqdg180_c + 0.0030684 sqdg181_9_c + 0.0030684 sqdg181_c + 0.0081564 sqdg182_9_12_c + 0.00025246 sqdg183_6_9_12_c + 0.00034956 sqdg183_9_12_15_c + 1e-06 sqdg184_6_9_12_15_c + 9.8267e-05 succoa_c + 0.00022333 thf_c + 0.25278 thr__L_c + 0.071297 trp__L_c + 0.13426 tyr__L_c + 5.353e-05 udcpdp_c + 0.13735 utp_c + 0.31019 val__L_c + 0.0029056 zeax_c + 0.003008 zn2_c --> 53.35 adp_c + 53.35 h_c + 53.3462 pi_c + 0.63107 ppi_c\n",
      "BIOMASS_KT2440_Core2\tBiomass P putida KT2440  aa DNA RNA ATP murein FA ions \t0.000223 10fthf_c + 0.000223 2fe2s_c + 0.000223 4fe4s_c + 0.000223 5mthf_c + 0.000279 accoa_c + 0.598267 ala__L_c + 0.000223 amet_c + 0.354251 arg__L_c + 0.158931 asn__L_c + 0.284685 asp__L_c + 46.918883 atp_c + 0.000223 btamp_c + 0.004226 ca2_c + 0.000223 chor_c + 0.004226 cl_c + 0.000167 coa_c + 0.002817 cobalt2_c + 0.159783 ctp_c + 0.002817 cu2_c + 0.055652 cys__L_c + 0.010804 datp_c + 0.01721 dctp_c + 0.017423 dgtp_c + 0.010854 dttp_c + 0.000223 fad_c + 0.00634 fe2_c + 0.00634 fe3_c + 0.251507 gln__L_c + 0.301809 glu__L_c + 0.431309 gly_c + 0.210704 gtp_c + 41.397362 h2o_c + 0.000223 hemeO_c + 0.126289 his__L_c + 0.244551 ile__L_c + 0.158509 k_c + 0.628769 leu__L_c + 3e-06 lipopb_c + 0.180336 lys__L_c + 3.1e-05 malcoa_c + 0.122008 met__L_c + 0.007044 mg2_c + 0.000223 mlthf_c + 0.002817 mobd_c + 0.012699 murein5px4p_p + 0.003522 na1_c + 0.001786 nad_c + 4.4e-05 nadh_c + 0.000111 nadp_c + 0.000335 nadph_c + 0.010567 nh4_c + 0.002817 ni2_c + 0.00858 pe160_c + 0.042623 pe161_c + 0.002855 pe180_c + 0.019426 pe181_c + 0.004743 pg160_c + 0.023561 pg161_c + 0.001578 pg180_c + 0.010738 pg181_c + 0.191038 phe__L_c + 0.000223 pheme_c + 0.011635 phethapphlipa_c + 0.26328 pro__L_c + 0.03327 ptrc_c + 0.000223 pydx5p_c + 0.000223 q8h2_c + 0.000223 ribflv_c + 0.301274 ser__L_c + 0.000223 sheme_c + 0.003522 so4_c + 9.8e-05 succoa_c + 0.000223 thf_c + 0.256324 thr__L_c + 0.077592 trp__L_c + 0.135921 tyr__L_c + 5.5e-05 udcpdp_c + 0.143215 utp_c + 0.389034 val__L_c + 0.002817 zn2_c --> 46.7502 adp_c + 46.7502 h_c + 46.746677 pi_c + 0.73868 ppi_c\n",
      "BIOMASS_Ec_SynMixo\tMixotrophic Biomass Ecuation\t0.000223 10fthf_c + 0.000223 5mthf_c + 0.000279 accoa_c + 0.000223 adocbl_c + 0.39075 ala__L_c + 0.000223 amet_c + 0.23195 arg__L_c + 0.18658 asn__L_c + 0.23149 asp__L_c + 38.5262 atp_c + 0.00026324 avite1_c + 1.4478e-05 bvite_c + 0.004512 ca2_c + 0.0034222 caro_c + 0.021191 cholphya_c + 0.000223 chor_c + 0.0001675 coa_c + 0.0030293 cobalt2_c + 0.1241 ctp_c + 0.003008 cu2_c + 0.045834 cys__L_c + 0.026311 datp_c + 0.024022 dctp_c + 0.020767 dgdg160_c + 0.0015338 dgdg161_c + 0.0003552 dgdg180_c + 0.00046418 dgdg181_9_c + 0.00046418 dgdg181_c + 0.0053017 dgdg182_9_12_c + 0.011532 dgdg183_6_9_12_c + 0.00015136 dgdg183_9_12_15_c + 0.00062563 dgdg184_6_9_12_15_c + 0.024092 dgtp_c + 0.00022376 dtocophe_c + 0.026402 dttp_c + 0.0025182 echin_c + 0.0002233 fad_c + 0.006816 fe2_c + 0.006816 fe3_c + 0.0016142 gcarote_c + 0.25602 gln__L_c + 0.27871 glu__L_c + 0.33982 gly_c + 0.000223 gthrd_c + 1.4478e-05 gtocophe_c + 0.13259 gtp_c + 33.7899 h2o_c + 0.000223 hemeA_c + 0.000223 hemeO_c + 0.085649 his__L_c + 0.28889 ile__L_c + 0.1692 k_c + 0.52501 leu__L_c + 0.025228 lipidAds_c + 0.1926 lys__L_c + 3.1267e-05 malcoa_c + 0.090279 met__L_c + 0.0075733 mg2_c + 0.030329 mgdg160_c + 0.0017653 mgdg161_c + 7.8137e-05 mgdg180_c + 0.00072349 mgdg181_9_c + 0.00072349 mgdg181_c + 0.0096572 mgdg182_9_12_c + 0.014397 mgdg183_6_9_12_c + 7.2349e-05 mgdg183_9_12_15_c + 0.00043409 mgdg184_6_9_12_15_c + 0.0002233 mlthf_c + 0.003029 mn2_c + 0.0030293 mobd_c + 0.003787 na1_c + 0.0017867 nad_c + 4.4667e-05 nadh_c + 0.00011167 nadp_c + 0.000335 nadph_c + 0.01136 nh4_c + 0.025228 peptido_syn_p + 0.0079965 pg160_c + 0.00013632 pg161_c + 0.00027416 pg180_c + 0.00051025 pg181_9_c + 0.00051025 pg181_c + 0.0051823 pg182_9_12_c + 1e-06 pg183_6_9_12_c + 0.0012947 pg183_9_12_15_c + 1e-06 pg184_6_9_12_15_c + 0.18473 phe__L_c + 0.00022333 pheme_c + 0.0016444 phllqne_c + 0.23611 pro__L_c + 0.03327 ptrc_c + 0.00022333 ribflv_c + 0.26713 ser__L_c + 0.003787 so4_c + 0.0067443 spmd_c + 0.023887 sqdg160_c + 0.0027596 sqdg161_c + 0.00052434 sqdg180_c + 0.0030684 sqdg181_9_c + 0.0030684 sqdg181_c + 0.0081564 sqdg182_9_12_c + 0.00025246 sqdg183_6_9_12_c + 0.00034956 sqdg183_9_12_15_c + 1e-06 sqdg184_6_9_12_15_c + 9.8267e-05 succoa_c + 0.00022333 thf_c + 0.25278 thr__L_c + 0.071297 trp__L_c + 0.13426 tyr__L_c + 5.353e-05 udcpdp_c + 0.13735 utp_c + 0.31019 val__L_c + 0.0029056 zeax_c + 0.003008 zn2_c --> 38.39 adp_c + 38.39 h_c + 38.3862 pi_c + 0.63107 ppi_c\n",
      "PPTGS_Syn_1\tPeptidoglycan subunit synthesis Synechocystis sp. PCC6803\tuaagmda_c --> e11_c + h_c + udcpdp_c\n",
      "FDIPDC\t\tfrdp_c + ipdp_c --> ppi_c + udcpdp_c\n",
      "BIOMASS_Gm_GS15_core_79p20M\tGeobacter metallireducens biomass objective function (iAF987) - core - with 79.20 GAM estimate\t0.000223 10fthf_c + 2.5e-05 2fe2s_c + 0.00025 4fe4s_c + 0.5142 ala__L_c + 0.000223 amet_c + 0.2961 arg__L_c + 0.2413 asn__L_c + 0.2413 asp__L_c + 79.302794 atp_c + 2e-06 btn_c + 0.005048 ca2_c + 0.005048 cl_c + 0.000168 coa_c + 2.4e-05 cobalt2_c + 0.0785 ctp_c + 0.000687 cu2_c + 0.09168 cys__L_c + 0.03363 datp_c + 0.04933 dctp_c + 0.04933 dgtp_c + 0.03363 dttp_c + 0.000223 fad_c + 0.014083 fe2_c + 0.2634 gln__L_c + 0.2634 glu__L_c + 0.6133 gly_c + 0.1265 gtp_c + 73.84599 h2o_c + 0.09484 his__L_c + 0.2908 ile__L_c + 0.1893 k_c + 0.02337 kdo2lipid4_e + 0.451 leu__L_c + 0.3435 lys__L_c + 0.1538 met__L_c + 0.008413 mg2_c + 0.000223 mlthf_c + 0.00067 mn2_c + 7e-06 mobd_c + 7e-06 mocogdp_c + 0.000223 mql8_c + 0.01638 murein5px4p_p + 0.001787 nad_c + 0.000112 nadp_c + 0.01262 nh4_c + 0.000313 ni2_c + 0.03673 pe160_c + 0.06821 pe160_p + 0.04192 pe161_c + 0.07785 pe161_p + 0.1855 phe__L_c + 0.000223 pheme_c + 0.2213 pro__L_c + 0.000223 pydx5p_c + 0.000223 ribflv_c + 0.216 ser__L_c + 0.000223 sheme_c + 0.004206 so4_c + 0.000223 thf_c + 0.000223 thmpp_c + 0.2539 thr__L_c + 0.0569 trp__L_c + 0.138 tyr__L_c + 5.5e-05 udcpdp_c + 0.08473 utp_c + 0.4236 val__L_c + 0.000331 zn2_c --> 79.2 adp_c + 79.2 h_c + 79.19579 pi_c + 0.5584 ppi_c\n",
      "PPTGS_Syn\tPeptidoglycan subunit synthesis Synechocystis sp. PCC6803\tuaagmda_c --> h_c + peptido_syn_c + udcpdp_c\n",
      "BIOMASS_Ec_SynHetero\tHeterotrophic Biomass Ecuation\t0.000223 10fthf_c + 0.000223 5mthf_c + 0.000279 accoa_c + 0.000223 adocbl_c + 0.39075 ala__L_c + 0.000223 amet_c + 0.23195 arg__L_c + 0.18658 asn__L_c + 0.23149 asp__L_c + 39.3462 atp_c + 0.00026324 avite1_c + 1.4478e-05 bvite_c + 0.004512 ca2_c + 0.0034222 caro_c + 0.021191 cholphya_c + 0.000223 chor_c + 0.0001675 coa_c + 0.0030293 cobalt2_c + 0.1241 ctp_c + 0.003008 cu2_c + 0.045834 cys__L_c + 0.026311 datp_c + 0.024022 dctp_c + 0.020767 dgdg160_c + 0.0015338 dgdg161_c + 0.0003552 dgdg180_c + 0.00046418 dgdg181_9_c + 0.00046418 dgdg181_c + 0.0053017 dgdg182_9_12_c + 0.011532 dgdg183_6_9_12_c + 0.00015136 dgdg183_9_12_15_c + 0.00062563 dgdg184_6_9_12_15_c + 0.024092 dgtp_c + 0.00022376 dtocophe_c + 0.026402 dttp_c + 0.0025182 echin_c + 0.0002233 fad_c + 0.006816 fe2_c + 0.006816 fe3_c + 0.0016142 gcarote_c + 0.25602 gln__L_c + 0.27871 glu__L_c + 0.33982 gly_c + 0.000223 gthrd_c + 1.4478e-05 gtocophe_c + 0.13259 gtp_c + 34.6099 h2o_c + 0.000223 hemeA_c + 0.000223 hemeO_c + 0.085649 his__L_c + 0.28889 ile__L_c + 0.1692 k_c + 0.52501 leu__L_c + 0.025228 lipidAds_c + 0.1926 lys__L_c + 3.1267e-05 malcoa_c + 0.090279 met__L_c + 0.0075733 mg2_c + 0.030329 mgdg160_c + 0.0017653 mgdg161_c + 7.8137e-05 mgdg180_c + 0.00072349 mgdg181_9_c + 0.00072349 mgdg181_c + 0.0096572 mgdg182_9_12_c + 0.014397 mgdg183_6_9_12_c + 7.2349e-05 mgdg183_9_12_15_c + 0.00043409 mgdg184_6_9_12_15_c + 0.0002233 mlthf_c + 0.003029 mn2_c + 0.0030293 mobd_c + 0.003787 na1_c + 0.0017867 nad_c + 4.4667e-05 nadh_c + 0.00011167 nadp_c + 0.000335 nadph_c + 0.01136 nh4_c + 0.025228 peptido_syn_p + 0.0079965 pg160_c + 0.00013632 pg161_c + 0.00027416 pg180_c + 0.00051025 pg181_9_c + 0.00051025 pg181_c + 0.0051823 pg182_9_12_c + 1e-06 pg183_6_9_12_c + 0.0012947 pg183_9_12_15_c + 1e-06 pg184_6_9_12_15_c + 0.18473 phe__L_c + 0.00022333 pheme_c + 0.0016444 phllqne_c + 0.23611 pro__L_c + 0.03327 ptrc_c + 0.00022333 ribflv_c + 0.26713 ser__L_c + 0.003787 so4_c + 0.0067443 spmd_c + 0.023887 sqdg160_c + 0.0027596 sqdg161_c + 0.00052434 sqdg180_c + 0.0030684 sqdg181_9_c + 0.0030684 sqdg181_c + 0.0081564 sqdg182_9_12_c + 0.00025246 sqdg183_6_9_12_c + 0.00034956 sqdg183_9_12_15_c + 1e-06 sqdg184_6_9_12_15_c + 9.8267e-05 succoa_c + 0.00022333 thf_c + 0.25278 thr__L_c + 0.071297 trp__L_c + 0.13426 tyr__L_c + 5.353e-05 udcpdp_c + 0.13735 utp_c + 0.31019 val__L_c + 0.0029056 zeax_c + 0.003008 zn2_c --> 39.21 adp_c + 39.21 h_c + 39.2062 pi_c + 0.63107 ppi_c\n",
      "BIOMASS_Cl_DSM_WT_46p666M1\tClostridium ljungdahlii biomass objective function (iAF1xxx) - WT - with 46.666 GAM estimate\t0.000223 10fthf_c + 0.000223 5mthf_c + 0.000279 accoa_c + 0.000223 adocbl_c + 0.385133 ala__L_c + 0.000223 amet_c + 0.221767 arg__L_c + 0.180728 asn__L_c + 0.180728 asp__L_c + 46.719016 atp_c + 2e-06 btn_c + 0.005098 ca2_c + 0.000223 chor_c + 0.005098 cl_c + 0.002669 clpn140_c + 0.008057 clpn160_c + 0.011798 clpn161_c + 0.000471 clpn181_c + 0.000167 coa_c + 2.5e-05 cobalt2_c + 0.040484 ctp_c + 0.000694 cu2_c + 0.068661 cys__L_c + 0.029167 datp_c + 0.013104 dctp_c + 0.013104 dgtp_c + 0.029167 dttp_c + 0.000223 fad_c + 0.013822 fe2_c + 0.197302 gln__L_c + 0.197302 glu__L_c + 0.459319 gly_c + 0.065225 gtp_c + 42.656029 h2o_c + 0.071028 his__L_c + 0.217821 ile__L_c + 0.191179 k_c + 0.337781 leu__L_c + 0.257282 lys__L_c + 3.1e-05 malcoa_c + 0.115224 met__L_c + 0.008496 mg2_c + 0.000223 mlthf_c + 0.000677 mn2_c + 7e-06 mobd_c + 0.006457 murein4p4p_e + 0.006538 murein4px4p_e + 0.000807 murein4px4px4p_e + 0.001787 nad_c + 4.5e-05 nadh_c + 0.000112 nadp_c + 0.000335 nadph_c + 0.012745 nh4_c + 0.000316 ni2_c + 0.040045 pe140_c + 0.120861 pe160_c + 0.176979 pe161_c + 0.00707 pe181_c + 0.00961 pg140_c + 0.029005 pg160_c + 0.042474 pg161_c + 0.001696 pg181_c + 0.1389 phe__L_c + 0.165733 pro__L_c + 0.000223 pydx5p_c + 0.000223 ribflv_c + 0.161787 ser__L_c + 0.004248 so4_c + 0.015433 teca_CL_c + 0.000223 thf_c + 0.000223 thmpp_c + 0.190199 thr__L_c + 0.042617 trp__L_c + 0.103386 tyr__L_c + 5.5e-05 udcpdp_c + 0.043698 utp_c + 0.317261 val__L_c + 0.000333 zn2_c --> 46.666 adp_c + 46.666 h_c + 46.661751 pi_c + 0.286968 ppi_c\n"
     ]
    }
   ],
   "source": [
    "rr = BM.biggunimodel.metabolites.get_by_id('udcpdp_c')\n",
    "for r in rr.reactions:\n",
    "    BM.print_rxn(BM.biggunimodel,r.id)"
   ]
  },
  {
   "cell_type": "code",
   "execution_count": null,
   "metadata": {},
   "outputs": [
    {
     "name": "stdout",
     "output_type": "stream",
     "text": [
      "TMPPP\tThiamine-phosphate diphosphorylase\t2mahmp_c + 4mpetz_c + h_c --> ppi_c + thmmp_c\n",
      "TMPPP_1\tThiamine-phosphate diphoshorylase\t2mahmp_c + cthzp_c + 2.0 h_c --> co2_c + ppi_c + thmmp_c\n"
     ]
    }
   ],
   "source": [
    "r1 = BM.biggunimodel.metabolites.get_by_id('thmmp_c').reactions\n",
    "r2 = BM.biggunimodel.metabolites.get_by_id('2mahmp_c').reactions\n",
    "for r in r1:\n",
    "    if r in r2:\n",
    "        BM.print_rxn(BM.biggunimodel,r.id)"
   ]
  },
  {
   "cell_type": "code",
   "execution_count": null,
   "metadata": {},
   "outputs": [
    {
     "name": "stdout",
     "output_type": "stream",
     "text": [
      "R01068\n",
      "['map00710', 'map00680']\n"
     ]
    },
    {
     "data": {
      "text/plain": [
       "['map00710', 'map00680']"
      ]
     },
     "metadata": {},
     "output_type": "display_data"
    }
   ],
   "source": [
    "K2B.get_pathway_from_bigg('FBA')"
   ]
  },
  {
   "attachments": {},
   "cell_type": "markdown",
   "metadata": {},
   "source": [
    "## Add reactions from Excel"
   ]
  },
  {
   "cell_type": "code",
   "execution_count": 3,
   "metadata": {},
   "outputs": [],
   "source": [
    "import myModules.buildmodel as BM"
   ]
  },
  {
   "cell_type": "code",
   "execution_count": 4,
   "metadata": {},
   "outputs": [
    {
     "data": {
      "text/html": [
       "\n",
       "        <table>\n",
       "            <tr>\n",
       "                <td><strong>Name</strong></td>\n",
       "                <td>Methylomonas_koyamae</td>\n",
       "            </tr><tr>\n",
       "                <td><strong>Memory address</strong></td>\n",
       "                <td>2406f7892b0</td>\n",
       "            </tr><tr>\n",
       "                <td><strong>Number of metabolites</strong></td>\n",
       "                <td>0</td>\n",
       "            </tr><tr>\n",
       "                <td><strong>Number of reactions</strong></td>\n",
       "                <td>0</td>\n",
       "            </tr><tr>\n",
       "                <td><strong>Number of genes</strong></td>\n",
       "                <td>0</td>\n",
       "            </tr><tr>\n",
       "                <td><strong>Number of groups</strong></td>\n",
       "                <td>0</td>\n",
       "            </tr><tr>\n",
       "                <td><strong>Objective expression</strong></td>\n",
       "                <td>0</td>\n",
       "            </tr><tr>\n",
       "                <td><strong>Compartments</strong></td>\n",
       "                <td></td>\n",
       "            </tr>\n",
       "          </table>"
      ],
      "text/plain": [
       "<Model Methylomonas_koyamae at 0x2406f7892b0>"
      ]
     },
     "execution_count": 4,
     "metadata": {},
     "output_type": "execute_result"
    }
   ],
   "source": [
    "import cobra\n",
    "new_model = cobra.Model(org_full_name)\n",
    "new_model"
   ]
  },
  {
   "cell_type": "code",
   "execution_count": 5,
   "metadata": {},
   "outputs": [
    {
     "name": "stdout",
     "output_type": "stream",
     "text": [
      "Not in biggunimodel:\tmleneh4mpt_c\n",
      "Not in biggunimodel:\tmenylh4mpt_c\n",
      "Not in biggunimodel:\tf5h4mpt_c\n",
      "Not in biggunimodel:\tformmfr_c\n",
      "Not in biggunimodel:\tmfr_c\n",
      "Not in biggunimodel:\tmlcoa_c\n",
      "Not in biggunimodel:\tndp_c\n",
      "Not in biggunimodel:\tntp_c\n",
      "Not in biggunimodel:\tCPG161161_c\n",
      "Not in biggunimodel:\tCPG161140_c\n",
      "Not in biggunimodel:\tCPG160161_c\n",
      "Not in biggunimodel:\tCPE161161_c\n",
      "Not in biggunimodel:\tCPE161140_c\n",
      "Not in biggunimodel:\tCPE160161_c\n",
      "Not in biggunimodel:\tCPC161161_c\n",
      "Not in biggunimodel:\tCPC161140_c\n",
      "Not in biggunimodel:\tCPC160161_c\n",
      "Not in biggunimodel:\tCCL161161_c\n",
      "Not in biggunimodel:\tCCL161140_c\n",
      "Not in biggunimodel:\tCCL160161_c\n"
     ]
    }
   ],
   "source": [
    "import pandas as pd\n",
    "df_import_reaction = pd.read_excel(org_name+'\\\\03_'+org_name+'_import_reaction.xlsx')\n",
    "for i in range(len(df_import_reaction)):\n",
    "    rxn_id = df_import_reaction.iloc[i]['ID']\n",
    "    rxn_name = df_import_reaction.iloc[i]['Name']\n",
    "    rxn_string = df_import_reaction.iloc[i]['Reaction']\n",
    "    BM.add_rxn_by_string(new_model,rxn_id,rxn_name,rxn_string)\n"
   ]
  },
  {
   "cell_type": "markdown",
   "metadata": {},
   "source": [
    "check these not in BIGG metabolites. list 'ID, Name, KEGG' in the import_reactions.xlsx Sheet2"
   ]
  },
  {
   "cell_type": "code",
   "execution_count": 6,
   "metadata": {},
   "outputs": [],
   "source": [
    "import json\n",
    "seedCOMDB = json.load(open('.\\\\SEED\\\\compounds.json','r'))\n",
    "def add_to_dir(my_dir, key, value):\n",
    "    if key in my_dir:\n",
    "        if isinstance(my_dir[key], list) and value not in my_dir[key]:\n",
    "            my_dir[key].append(value)\n",
    "        else:\n",
    "            my_dir[key] = [my_dir[key], value]\n",
    "    else:\n",
    "        my_dir[key] = value\n",
    "\n",
    "def find_compound_by_seedid(id,seedCOMDB=seedCOMDB):\n",
    "    for c in seedCOMDB:\n",
    "        if c['id'] == id:\n",
    "            return c\n",
    "    return None\n",
    "\n",
    "def find_compound_by_keggid(id,seedCOMDB=seedCOMDB):\n",
    "    for c in seedCOMDB:\n",
    "        if c.get('aliases'):\n",
    "            for l in c['aliases']:\n",
    "                if l.startswith('KEGG:'):\n",
    "                    for s in l.split(':')[1].split(';'):\n",
    "                        if s.strip() == id:\n",
    "                            return c\n",
    "    return None\n",
    "\n",
    "def get_anno_from_seed(c):\n",
    "    anno_dict = {}\n",
    "    add_to_dir(anno_dict,'seed.compound',c['id'])\n",
    "    if c.get('inchikey'):\n",
    "        add_to_dir(anno_dict,'inchikey',c['inchikey'])\n",
    "    for l in c['aliases']:\n",
    "        if l.startswith('KEGG:'):\n",
    "            for s in l.split(':')[1].split(';'):\n",
    "                add_to_dir(anno_dict,'kegg.compound',s.strip())\n",
    "        elif l.startswith('MetaCyc:'):\n",
    "            for s in l.split(':')[1].split(';'):\n",
    "                add_to_dir(anno_dict,'biocyc','META:'+s.strip())\n",
    "    return anno_dict"
   ]
  },
  {
   "cell_type": "code",
   "execution_count": 7,
   "metadata": {},
   "outputs": [],
   "source": [
    "df_import_metabolite = pd.read_excel(org_name+'\\\\03_'+org_name+'_import_reaction.xlsx',sheet_name='Sheet2')\n",
    "for i in range(len(df_import_metabolite)):\n",
    "    met_id = df_import_metabolite.iloc[i]['ID']\n",
    "    met_name = df_import_metabolite.iloc[i]['Name']\n",
    "    met_kegg_id = df_import_metabolite.iloc[i]['KEGG']\n",
    "    new_model.metabolites.get_by_id(met_id).name = met_name\n",
    "    c = find_compound_by_keggid(met_kegg_id)\n",
    "    if c:\n",
    "        new_model.metabolites.get_by_id(met_id).formula = c['formula']\n",
    "        new_model.metabolites.get_by_id(met_id).charge = c['charge']\n",
    "        new_model.metabolites.get_by_id(met_id).annotation = get_anno_from_seed(c)\n",
    "    else:\n",
    "        new_model.metabolites.get_by_id(met_id).formula = met_kegg_id\n",
    "        new_model.metabolites.get_by_id(met_id).charge = 0"
   ]
  },
  {
   "cell_type": "markdown",
   "metadata": {},
   "source": [
    "### Add annotation"
   ]
  },
  {
   "cell_type": "code",
   "execution_count": 8,
   "metadata": {},
   "outputs": [
    {
     "name": "stdout",
     "output_type": "stream",
     "text": [
      "Not in biggunimodel:\tPMMO\n",
      "Not in biggunimodel:\tMeDH\n",
      "Not in biggunimodel:\tFAE\n",
      "Not in biggunimodel:\tMTD\n",
      "Not in biggunimodel:\tMCH\n",
      "Not in biggunimodel:\tFWDf\n",
      "Not in biggunimodel:\tFWD\n",
      "Not in biggunimodel:\tH6PS\n",
      "Not in biggunimodel:\tH6PI\n",
      "Not in biggunimodel:\tMACOAli\n",
      "Not in biggunimodel:\tMLCOAly\n",
      "Not in biggunimodel:\tGHMT1\n",
      "Not in biggunimodel:\tPFKppi\n",
      "Not in biggunimodel:\tPDHa1\n",
      "Not in biggunimodel:\tPDHa2\n",
      "Not in biggunimodel:\tLDP\n",
      "Not in biggunimodel:\tAKGDa1\n",
      "Not in biggunimodel:\tAKGDa2\n",
      "Not in biggunimodel:\tSUCDH\n",
      "Not in biggunimodel:\tNO3R3\n",
      "Not in biggunimodel:\tAMMO\n",
      "Not in biggunimodel:\tNDP9\n",
      "Not in biggunimodel:\tFGAMCL\n",
      "Not in biggunimodel:\tR12184\n",
      "Not in biggunimodel:\tR08968\n",
      "Not in biggunimodel:\tRPG161161\n",
      "Not in biggunimodel:\tRPG161140\n",
      "Not in biggunimodel:\tRPG160161\n",
      "Not in biggunimodel:\tRPE161161\n",
      "Not in biggunimodel:\tRPE161140\n",
      "Not in biggunimodel:\tRPE160161\n",
      "Not in biggunimodel:\tRC08362\n",
      "Not in biggunimodel:\tRPC161161\n",
      "Not in biggunimodel:\tRPC161140\n",
      "Not in biggunimodel:\tRPC160161\n",
      "Not in biggunimodel:\tRCL161161\n",
      "Not in biggunimodel:\tRCL161140\n",
      "Not in biggunimodel:\tRCL160161\n",
      "Not in biggunimodel:\tFALDtpc\n",
      "Not in biggunimodel:\tNO3tcpp\n",
      "Not in biggunimodel:\tNO2tcpp\n",
      "Not in biggunimodel:\tNO2tep\n",
      "Not in biggunimodel:\tN2Otep\n",
      "Not in biggunimodel:\tN2Otcp\n",
      "Not in biggunimodel:\tNOtep\n",
      "Not in biggunimodel:\tNOtcp\n",
      "Not in biggunimodel:\tHtep\n",
      "Not in biggunimodel:\tHtcp\n",
      "Not in biggunimodel:\tN2tep\n",
      "Not in biggunimodel:\tN2tcp\n",
      "Not in biggunimodel:\tFORtep\n",
      "Not in biggunimodel:\tFORtcp\n",
      "Not in biggunimodel:\tPItcp\n",
      "Not in biggunimodel:\tPItpe\n",
      "Not in biggunimodel:\tO2tcp\n",
      "Not in biggunimodel:\tO2tpe\n",
      "Not in biggunimodel:\tNH4tep\n",
      "Not in biggunimodel:\tNH4tcp\n",
      "Not in biggunimodel:\tCO2tcp\n",
      "Not in biggunimodel:\tCO2tep\n",
      "Not in biggunimodel:\tH2Otcp\n",
      "Not in biggunimodel:\tH2Otep\n",
      "Not in biggunimodel:\tCH4tep\n",
      "Not in biggunimodel:\tCH4tcp\n",
      "Not in biggunimodel:\tPYRtep\n",
      "Not in biggunimodel:\tPYRtcp\n",
      "Not in biggunimodel:\tMEOHtcp\n",
      "Not in biggunimodel:\tMEOHtep\n",
      "Not in biggunimodel:\tACtcp\n",
      "Not in biggunimodel:\tACtep\n",
      "Not in biggunimodel:\tSUCCtcp\n",
      "Not in biggunimodel:\tSUCCtep\n",
      "Not in biggunimodel:\tLACtcp\n",
      "Not in biggunimodel:\tLACtep\n",
      "Not in biggunimodel:\tGLYCtep\n",
      "Not in biggunimodel:\tGLYCtcp\n",
      "Not in biggunimodel:\tMg2tep\n",
      "Not in biggunimodel:\tMg2tcp\n",
      "Not in biggunimodel:\tCa2tep\n",
      "Not in biggunimodel:\tCa2tcp\n"
     ]
    }
   ],
   "source": [
    "for rxn in new_model.reactions:\n",
    "    BM.add_annotation_from_BIGGurl(rxn)"
   ]
  },
  {
   "cell_type": "markdown",
   "metadata": {},
   "source": [
    "check these not in BIGG reactions. list 'ID, KEGG_R' in the import_reactions.xlsx Sheet3"
   ]
  },
  {
   "cell_type": "code",
   "execution_count": 9,
   "metadata": {},
   "outputs": [],
   "source": [
    "import json\n",
    "seedrxnDB = json.load(open('.\\\\SEED\\\\reactions.json','r'))\n",
    "def add_to_dir(my_dir, key, value):\n",
    "    if key in my_dir:\n",
    "        if isinstance(my_dir[key], list) and value not in my_dir[key]:\n",
    "            my_dir[key].append(value)\n",
    "        else:\n",
    "            my_dir[key] = [my_dir[key], value]\n",
    "    else:\n",
    "        my_dir[key] = value\n",
    "\n",
    "def find_reaction_by_seedid(id,seedrxnDB=seedrxnDB):\n",
    "    for r in seedrxnDB:\n",
    "        if r['id'] == id:\n",
    "            return r\n",
    "    return None\n",
    "\n",
    "def find_reaction_by_keggid(id,seedrxnDB=seedrxnDB):\n",
    "    for r in seedrxnDB:\n",
    "        if r.get('aliases'):\n",
    "            for l in r['aliases']:\n",
    "                if l.startswith('KEGG:'):\n",
    "                    for s in l.split(':')[1].split(';'):\n",
    "                        if s.strip() == id:\n",
    "                            return r\n",
    "    return None\n",
    "\n",
    "def get_anno_from_seedrxn(r):\n",
    "    anno_dict = {}\n",
    "    add_to_dir(anno_dict,'seed.reaction',r['id'])\n",
    "    if r.get('ec_numbers'):\n",
    "        for ec in r['ec_numbers']:\n",
    "            add_to_dir(anno_dict,'ec-code',ec)\n",
    "    for l in r['aliases']:\n",
    "        if l.startswith('KEGG:'):\n",
    "            for s in l.split(':')[1].split(';'):\n",
    "                add_to_dir(anno_dict,'kegg.reaction',s.strip())\n",
    "        elif l.startswith('MetaCyc:'):\n",
    "            for s in l.split(':')[1].split(';'):\n",
    "                add_to_dir(anno_dict,'biocyc','META:'+s.strip())\n",
    "    return anno_dict"
   ]
  },
  {
   "cell_type": "code",
   "execution_count": 10,
   "metadata": {},
   "outputs": [],
   "source": [
    "df_import_reaction_anno = pd.read_excel(org_name+'\\\\03_'+org_name+'_import_reaction.xlsx',sheet_name='Sheet3')\n",
    "for i in range(len(df_import_reaction_anno)):\n",
    "    rxn_id = df_import_reaction_anno.iloc[i]['ID']\n",
    "    rxn_kegg_id = df_import_reaction_anno.iloc[i]['KEGG_R']\n",
    "    r = find_reaction_by_keggid(rxn_kegg_id)\n",
    "    if r:\n",
    "        new_model.reactions.get_by_id(rxn_id).annotation = get_anno_from_seedrxn(r)\n",
    "    else:\n",
    "        new_model.reactions.get_by_id(rxn_id).annotation = {'kegg.reaction':rxn_kegg_id}"
   ]
  },
  {
   "cell_type": "code",
   "execution_count": 11,
   "metadata": {},
   "outputs": [],
   "source": [
    "for rxn in new_model.reactions:\n",
    "    if rxn.annotation.get('kegg.reaction') == None:\n",
    "        try:\n",
    "            keggid = df_import_reaction[df_import_reaction[\"ID\"]==rxn.id][\"KEGG_R\"].to_list()[0].split(',')\n",
    "            rxn.annotation['kegg.reaction'] = keggid\n",
    "        except:\n",
    "            pass"
   ]
  },
  {
   "cell_type": "code",
   "execution_count": 12,
   "metadata": {},
   "outputs": [
    {
     "name": "stdout",
     "output_type": "stream",
     "text": [
      "RPG161161\n",
      "RPG161140\n",
      "RPG160161\n",
      "RPE161161\n",
      "RPE161140\n",
      "RPE160161\n",
      "RC08362\n",
      "RPC161161\n",
      "RPC161140\n",
      "RPC160161\n",
      "RCL161161\n",
      "RCL161140\n",
      "RCL160161\n",
      "FALDtpc\n",
      "NO3tex\n",
      "NO3tcpp\n",
      "NO2tcpp\n",
      "NO2tep\n",
      "N2Otep\n",
      "N2Otcp\n",
      "NOtep\n",
      "NOtcp\n",
      "Htep\n",
      "Htcp\n",
      "N2tep\n",
      "N2tcp\n",
      "FORtep\n",
      "FORtcp\n",
      "PItcp\n",
      "PItpe\n",
      "O2tcp\n",
      "O2tpe\n",
      "NH4tep\n",
      "NH4tcp\n",
      "CO2tcp\n",
      "CO2tep\n",
      "H2Otcp\n",
      "H2Otep\n",
      "CH4tep\n",
      "CH4tcp\n",
      "PYRtep\n",
      "PYRtcp\n",
      "MEOHtcp\n",
      "MEOHtep\n",
      "ACtcp\n",
      "ACtep\n",
      "SUCCtcp\n",
      "SUCCtep\n",
      "LACtcp\n",
      "LACtep\n",
      "GLYCtep\n",
      "GLYCtcp\n",
      "Mg2tep\n",
      "Mg2tcp\n",
      "Ca2tep\n",
      "Ca2tcp\n"
     ]
    }
   ],
   "source": [
    "for rxn in new_model.reactions:\n",
    "    if rxn.annotation.get('kegg.reaction') == None:\n",
    "        print(rxn.id)"
   ]
  },
  {
   "cell_type": "code",
   "execution_count": 13,
   "metadata": {},
   "outputs": [],
   "source": [
    "loca = ['c','p','e']\n",
    "for l in loca:\n",
    "    new_model.metabolites.get_by_id('h2o_'+l).name = 'H2O'\n",
    "    new_model.metabolites.get_by_id('o2_'+l).name = 'O2'\n",
    "    new_model.metabolites.get_by_id('co2_'+l).name = 'CO2'\n",
    "    new_model.metabolites.get_by_id('h_'+l).charge=1"
   ]
  },
  {
   "cell_type": "code",
   "execution_count": 14,
   "metadata": {},
   "outputs": [],
   "source": [
    "BM.add_rxn_by_string(new_model,'H2tce','H2 transport','h2_e <=> h2_c')\n",
    "BM.add_rxn_by_string(new_model,'cobalt2tce','Cobalt2 transport','cobalt2_e <=> cobalt2_c')\n",
    "BM.add_rxn_by_string(new_model,'Cutce','Cu transport','cu2_e <=> cu2_c')\n",
    "BM.add_rxn_by_string(new_model,'Fetce','Fe transport','fe2_e <=> fe2_c')"
   ]
  },
  {
   "cell_type": "code",
   "execution_count": 15,
   "metadata": {},
   "outputs": [
    {
     "data": {
      "text/html": [
       "\n",
       "        <table>\n",
       "            <tr>\n",
       "                <td><strong>Name</strong></td>\n",
       "                <td>Methylomonas_koyamae</td>\n",
       "            </tr><tr>\n",
       "                <td><strong>Memory address</strong></td>\n",
       "                <td>2406f7892b0</td>\n",
       "            </tr><tr>\n",
       "                <td><strong>Number of metabolites</strong></td>\n",
       "                <td>778</td>\n",
       "            </tr><tr>\n",
       "                <td><strong>Number of reactions</strong></td>\n",
       "                <td>743</td>\n",
       "            </tr><tr>\n",
       "                <td><strong>Number of genes</strong></td>\n",
       "                <td>0</td>\n",
       "            </tr><tr>\n",
       "                <td><strong>Number of groups</strong></td>\n",
       "                <td>0</td>\n",
       "            </tr><tr>\n",
       "                <td><strong>Objective expression</strong></td>\n",
       "                <td>0</td>\n",
       "            </tr><tr>\n",
       "                <td><strong>Compartments</strong></td>\n",
       "                <td>p, m, c, e</td>\n",
       "            </tr>\n",
       "          </table>"
      ],
      "text/plain": [
       "<Model Methylomonas_koyamae at 0x2406f7892b0>"
      ]
     },
     "execution_count": 15,
     "metadata": {},
     "output_type": "execute_result"
    }
   ],
   "source": [
    "new_model"
   ]
  },
  {
   "cell_type": "markdown",
   "metadata": {},
   "source": [
    "### Save excel reactions"
   ]
  },
  {
   "cell_type": "code",
   "execution_count": 16,
   "metadata": {},
   "outputs": [],
   "source": [
    "import pandas as pd\n",
    "import json\n",
    "df_ex_reaction = pd.DataFrame(columns=['ID','Name','Reaction','Annotation'])\n",
    "for rxn in new_model.reactions:\n",
    "    ID = rxn.id\n",
    "    Name = rxn.name\n",
    "    Reaction = rxn.reaction\n",
    "    Annotation = json.dumps(rxn.annotation)\n",
    "    df_ex_reaction.loc[len(df_ex_reaction)] = [ID,Name,Reaction,Annotation]\n",
    "df_ex_reaction.to_excel(org_name+'\\\\04_'+org_name+'_export_clean_reaction.xlsx', index=False,sheet_name='Reactions')\n",
    "\n",
    "df_ex_metabolite = pd.DataFrame(columns=['ID','Name','Formula','Charge','Annotation'])\n",
    "for met in new_model.metabolites:\n",
    "    ID = met.id\n",
    "    Name = met.name\n",
    "    Formula = met.formula\n",
    "    Charge = met.charge\n",
    "    Annotation = json.dumps(met.annotation)\n",
    "    df_ex_metabolite.loc[len(df_ex_metabolite)] = [ID,Name,Formula,Charge,Annotation]\n",
    "df_ex_metabolite.to_excel(org_name+'\\\\05_'+org_name+'_export_clean_metabolite.xlsx', index=False,sheet_name='Metabolites')"
   ]
  },
  {
   "cell_type": "code",
   "execution_count": 17,
   "metadata": {},
   "outputs": [],
   "source": [
    "cobra.io.write_sbml_model(new_model, org_name+'\\\\06_'+org_name+'_excel_model.xml')\n",
    "cobra.io.save_json_model(new_model, org_name+'\\\\06_'+org_name+'_excel_model.json')"
   ]
  },
  {
   "attachments": {},
   "cell_type": "markdown",
   "metadata": {},
   "source": [
    "## Add biomass reaction"
   ]
  },
  {
   "attachments": {},
   "cell_type": "markdown",
   "metadata": {},
   "source": [
    "### import other model and get the biomass reactions"
   ]
  },
  {
   "cell_type": "code",
   "execution_count": 21,
   "metadata": {},
   "outputs": [
    {
     "name": "stderr",
     "output_type": "stream",
     "text": [
      "'' is not a valid SBML 'SId'.\n"
     ]
    }
   ],
   "source": [
    "GB1_model = cobra.io.read_sbml_model('other_model\\\\5GB1_base_fermentation.xml')"
   ]
  },
  {
   "cell_type": "code",
   "execution_count": 22,
   "metadata": {},
   "outputs": [
    {
     "name": "stdout",
     "output_type": "stream",
     "text": [
      "2ddg6p_c \t -3e-06\n",
      "2pg_c \t -0.006\n",
      "3pg_c \t -0.107\n",
      "6pgc_c \t -0.00015\n",
      "accoa_c \t -0.0001\n",
      "agmdadpudcp_c \t -0.053 \t N-acetylmuramoyl-L-alanyl-D-glutamyl-meso-2,6-diaminopimelyl-D-alanyl-D-alanine-diphosphoundecaprenol\n",
      "ala__l_c \t -0.446 \t L-alanine\n",
      "amet_c \t -0.00022\n",
      "amp_c \t -0.001\n",
      "arab__d_c \t -0.022 \t D-arabinose\n",
      "arg__l_c \t -0.202 \t L-arginine\n",
      "asn__l_c \t -0.119 \t L-asparagine\n",
      "asp__l_c \t -0.348 \t L-aspartate\n",
      "atp_c \t -54.355\n",
      "btn_c \t -0.00022 \t biotin\n",
      "ca2_c \t -0.01\n",
      "cit_c \t -0.001\n",
      "coa_c \t -0.00022\n",
      "cob12_c \t -6e-08 \t coenzyme B12\n",
      "ctp_c \t -0.047\n",
      "cu2_c \t -0.01\n",
      "cys__l_c \t -0.03 \t L-cysteine\n",
      "datp_c \t -0.0021\n",
      "dctp_c \t -0.002\n",
      "dgtp_c \t -0.002\n",
      "dhap_c \t -0.003\n",
      "dial_c \t -6e-08 \t dialurate\n",
      "dttp_c \t -0.0021\n",
      "ectoine_c \t -0.027 \t ectoine\n",
      "f6p_c \t -0.003 \t D-fructose 6-phosphate\n",
      "fad_c \t -0.00022\n",
      "fdp_c \t -0.001 \t fructose-1,6-bisphosphate\n",
      "fe2_c \t -0.0059\n",
      "fmn_c \t -0.00022\n",
      "fmnh2_c \t -0.00022\n",
      "fum_c \t -0.001\n",
      "g6p_c \t -0.002 \t D-glucose 6-phosphate\n",
      "gal_bD_c \t -0.005 \t beta-D-galactose\n",
      "gln__l_c \t -0.15 \t L-glutamine\n",
      "glu__l_c \t -0.396 \t L-glutamate\n",
      "gly_c \t -0.443\n",
      "glyc__r_c \t -0.001 \t D-glycerate\n",
      "gthrd_c \t -0.00022\n",
      "gtp_c \t -0.047\n",
      "h2o_c \t -54.3\n",
      "his__l_c \t -0.088 \t L-histidine\n",
      "ile__l_c \t -0.256 \t L-isoleucine\n",
      "lanost_c \t -0.04 \t lanosterol\n",
      "leu__l_c \t -0.26 \t L-leucine\n",
      "lipa_c \t -0.001 \t Kdo2-lipid A\n",
      "lipida_c \t -0.001 \t lipid IVA\n",
      "lys__l_c \t -0.25 \t L-lysine\n",
      "mal__l_c \t -0.004 \t (S)-malate\n",
      "malt_c \t -0.008 \t maltose\n",
      "met__l_c \t -0.12 \t L-methionine\n",
      "mg2_c \t -0.07\n",
      "nad_c \t -0.002\n",
      "nadh_c \t -0.002\n",
      "nadp_c \t -0.001\n",
      "nadph_c \t -0.001\n",
      "ocdca_c \t -0.001\n",
      "pa160_c \t -0.007 \t dipalmitoyl phosphatidate\n",
      "pe160_c \t -0.122 \t phosphatidylethanolamine\n",
      "pep_c \t -0.005\n",
      "pg_c \t -0.031 \t phosphatidylglycerol\n",
      "phe__l_c \t -0.196 \t L-phenylalanine\n",
      "pheme_c \t -0.00036\n",
      "pppi_c \t -0.029\n",
      "pro__l_c \t -0.195 \t L-proline\n",
      "ps160_c \t -0.014 \t 1,2-dipalmitoyl-phosphatidylserine\n",
      "pyr_c \t -0.015\n",
      "rib__d_c \t -0.036 \t D-ribose\n",
      "ribflv_c \t -0.00022\n",
      "ru5p__d_c \t -0.001 \t D-ribulose 5-phosphate\n",
      "ser__l_c \t -0.23 \t L-serine\n",
      "sql_c \t -0.04\n",
      "sucr_c \t -0.01 \t sucrose\n",
      "thf_c \t -0.00022\n",
      "thr__l_c \t -0.26 \t L-threonine\n",
      "trp__l_c \t -0.072 \t L-tryptophan\n",
      "ttdca_c \t -0.016\n",
      "tyr__l_c \t -0.14 \t L-tyrosine\n",
      "utp_c \t -0.05\n",
      "val__l_c \t -0.341 \t L-valine\n",
      "adp_c \t 54.3\n",
      "h_c \t 54.3\n",
      "pi_c \t 54.3\n"
     ]
    }
   ],
   "source": [
    "biorxn = GB1_model.reactions.get_by_id('BIOMASS_M5GB1')\n",
    "for meta, sto in biorxn.metabolites.items():\n",
    "    try:\n",
    "        a = new_model.metabolites.get_by_id(meta.id)\n",
    "        print(meta.id,'\\t', sto)\n",
    "    except:\n",
    "        print(meta.id,'\\t', sto,'\\t',meta.name)"
   ]
  },
  {
   "cell_type": "code",
   "execution_count": 23,
   "metadata": {},
   "outputs": [
    {
     "name": "stdout",
     "output_type": "stream",
     "text": [
      "not found in bigguni model:\tC08362\t-0.0236\t(9Z)-Hexadecenoicacid\n",
      "not found in bigguni model:\tCPG161161\t-0.0045\tphosphatidyl glycerol with palmitoleic acid\n",
      "not found in bigguni model:\tC06424\t-0.072\tTetradecanoicacid\n",
      "not found in bigguni model:\tCPG161140\t-0.0022\tphosphatidyl glycerol with myristic and palmitoleic acid\n",
      "not found in bigguni model:\tCPG160161\t-0.0083\tphosphatidyl glycerol with palmitic acid and palmitoleic acid\n",
      "not found in bigguni model:\tCPE161161\t-0.0385\tphosphatidyl ethanol amine with palmitoleic acid\n",
      "not found in bigguni model:\tCPE161140\t-0.0087\tphosphatidyl ethanol amine with myristic and palmitoleic acid\n",
      "not found in bigguni model:\tCPE160161\t-0.0416\tphosphatidyl ethanol amine with palmitic acid and palmitoleic acid\n",
      "not found in bigguni model:\tCPC161161\t-0.003\tphosphatidyl choline with palmitoleic acid\n",
      "not found in bigguni model:\tCPC161140\t-0.0031\tphosphatidyl choline with myristic and palmitoleic acid\n",
      "not found in bigguni model:\tCPC160161\t-0.003\tphosphatidyl choline with palmitic acid and palmitoleic acid\n",
      "not found in bigguni model:\tCCL161161\t-0.001\tcardiolipin with palmitoleic acid\n",
      "not found in bigguni model:\tCCL161140\t-0.0011\tcardiolipin with myristic and palmitoleic acid\n",
      "not found in bigguni model:\tCCL160161\t-0.001\tcardiolipin with palmitic acid and palmitoleic acid\n",
      "not found in bigguni model:\tC00085\t-0.0024041\tD-Fructose 6-phosphate\n",
      "not found in bigguni model:\tC00023\t-0.004728\tIron\n"
     ]
    }
   ],
   "source": [
    "# import new mca model and get biomass reaction, then get list of metabolites, then compare to bigguni model\n",
    "def find_kegg_com_in_uniBIGG(kegg_id):\n",
    "    for m in BM.biggunimodel.metabolites:\n",
    "        if m.annotation.get('kegg.compound'):\n",
    "            if kegg_id in m.annotation.get('kegg.compound'):\n",
    "                return m.id\n",
    "mca_model = cobra.io.read_sbml_model('other_model\\\\newmethylococcus_new.xml')\n",
    "mcabiorxn = mca_model.reactions.get_by_id('Biomass_reaction')\n",
    "mcabiolist=[]\n",
    "biodict = {}\n",
    "for meta, sto in mcabiorxn.metabolites.items():\n",
    "    meta_id = meta.id.split('_')[0]\n",
    "    mcabiolist.append(meta_id)\n",
    "    if find_kegg_com_in_uniBIGG(meta_id):\n",
    "        biodict[find_kegg_com_in_uniBIGG(meta_id)] = sto\n",
    "    else:\n",
    "        print('not found in bigguni model:\\t'+meta_id+'\\t'+str(sto)+'\\t'+meta.name)\n"
   ]
  },
  {
   "cell_type": "code",
   "execution_count": 24,
   "metadata": {},
   "outputs": [
    {
     "name": "stdout",
     "output_type": "stream",
     "text": [
      "h2o_c \t -59.81\n",
      "ctp_c \t -0.0604\n",
      "nadph_c \t -0.00080136\n",
      "nadp_c \t -0.00080136\n",
      "hdca_e \t -0.0075 \t not found in new model\n",
      "ser__L_c \t -0.27727\n",
      "amet_c \t -0.0001763\n",
      "nadh_c \t -0.0016027\n",
      "nad_c \t -0.0016027\n",
      "utp_c \t -0.0604\n",
      "atp_c \t -59.8782\n",
      "gly_c \t -0.53405\n",
      "glu__L_c \t -0.47739\n",
      "coa_c \t -0.0001763\n",
      "pyr_e \t -0.01202\n",
      "accoa_c \t -8.0136e-05\n",
      "6pgc_c \t -0.0001202\n",
      "ru5p__D_c \t -0.00080136\n",
      "ala__L_c \t -0.53767\n",
      "gtp_c \t -0.0642\n",
      "met__L_c \t -0.14466\n",
      "g6p_e \t -0.0016027 \t not found in new model\n",
      "g3p_c \t -0.0024041\n",
      "CE2314_r \t -0.0053 \t not found in new model\n",
      "pheme_c \t -0.0001763\n",
      "asp__L_c \t -0.41952\n",
      "sql_r \t -0.0134 \t not found in new model\n",
      "gthrd_p \t -0.0001763 \t not found in new model\n",
      "gln__L_c \t -0.18083\n",
      "cobalt2_c \t -0.00080136\n",
      "fmn_c \t -0.0001763\n",
      "fmnh2_c \t -0.0001763\n",
      "2ddg6p_c \t -2.4041e-06\n",
      "kdo2lipid4_e \t -0.0016 \t not found in new model\n",
      "uaagmda_c \t -0.0425\n",
      "fum_c \t -0.00080136\n",
      "cys__L_c \t -0.036166\n",
      "amp_e \t -0.00080136 \t not found in new model\n",
      "pep_c \t -0.0040068\n",
      "3pg_c \t -0.0048082\n",
      "succ_c \t -0.0016027\n",
      "trp__L_c \t -0.086798\n",
      "glycogen_c \t -0.09376 \t not found in new model\n",
      "dttp_c \t -0.0259\n",
      "dctp_c \t -0.0148\n",
      "ile__L_c \t -0.30862\n",
      "dgtp_c \t -0.0259\n",
      "glyc__R_e \t -0.00080136 \t not found in new model\n",
      "thr__L_c \t -0.31344\n",
      "cit_c \t -0.00080136\n",
      "mal__L_c \t -0.0032055\n",
      "pro__L_c \t -0.23508\n",
      "val__L_c \t -0.41109\n",
      "his__L_c \t -0.10609\n",
      "datp_c \t -0.0148\n",
      "leu__L_c \t -0.31344\n",
      "arg__L_c \t -0.24352\n",
      "fdp_c \t -0.00080136 \t not found in new model\n",
      "tyr__L_c \t -0.16877\n",
      "phe__L_c \t -0.23628\n",
      "asn__L_c \t -0.14346\n",
      "lys__L_c \t -0.30138\n",
      "fad_c \t -0.0001763\n",
      "malt_c \t -0.008 \t not found in new model\n",
      "mg2_c \t -0.056095\n",
      "ca2_c \t -0.0080136\n",
      "cu2_c \t -0.0080136\n",
      "adp_c \t 59.7458\n",
      "pi_c \t 59.7458\n",
      "h_c \t 59.6758\n"
     ]
    }
   ],
   "source": [
    "for key, item in biodict.items():\n",
    "    try:\n",
    "        a=new_model.metabolites.get_by_id(key)\n",
    "        print(key,'\\t',item)\n",
    "    except:\n",
    "        print(key,'\\t',item,'\\t','not found in new model')"
   ]
  },
  {
   "cell_type": "markdown",
   "metadata": {},
   "source": [
    "compare and make a bio rxn (id and sto) in import_reaction.xlsx sheet4"
   ]
  },
  {
   "cell_type": "code",
   "execution_count": 14,
   "metadata": {},
   "outputs": [],
   "source": [
    "org_name = 'mko'\n",
    "org_full_name = 'Methylomonas_koyamae'"
   ]
  },
  {
   "cell_type": "code",
   "execution_count": 2,
   "metadata": {},
   "outputs": [
    {
     "name": "stderr",
     "output_type": "stream",
     "text": [
      "No objective coefficients in model. Unclear what should be optimized\n"
     ]
    }
   ],
   "source": [
    "import cobra\n",
    "import pandas as pd\n",
    "new_model = cobra.io.read_sbml_model(org_name+'\\\\06_'+org_name+'_excel_model.xml')"
   ]
  },
  {
   "cell_type": "code",
   "execution_count": 18,
   "metadata": {},
   "outputs": [],
   "source": [
    "biomass_meta = cobra.Metabolite('mko_biomass_c')\n",
    "biomass_meta.name = 'mko_biomass'\n",
    "biomass_meta.compartment = 'c'\n",
    "biomass_meta.formula = 'C41H75O22N9P'\n",
    "biomass_meta.charge = -121"
   ]
  },
  {
   "cell_type": "code",
   "execution_count": 19,
   "metadata": {},
   "outputs": [],
   "source": [
    "new_model.add_metabolites(biomass_meta)"
   ]
  },
  {
   "cell_type": "code",
   "execution_count": 20,
   "metadata": {},
   "outputs": [
    {
     "data": {
      "text/html": [
       "\n",
       "        <table>\n",
       "            <tr>\n",
       "                <td><strong>Metabolite identifier</strong></td><td>mko_biomass_c</td>\n",
       "            </tr><tr>\n",
       "                <td><strong>Name</strong></td><td>mko_biomass</td>\n",
       "            </tr><tr>\n",
       "                <td><strong>Memory address</strong></td>\n",
       "                <td>0x2406e3f96d0</td>\n",
       "            </tr><tr>\n",
       "                <td><strong>Formula</strong></td><td>C41H75O22N9P</td>\n",
       "            </tr><tr>\n",
       "                <td><strong>Compartment</strong></td><td>c</td>\n",
       "            </tr><tr>\n",
       "                <td><strong>In 0 reaction(s)</strong></td><td>\n",
       "                    \n",
       "                    </td>\n",
       "            </tr>\n",
       "        </table>"
      ],
      "text/plain": [
       "<Metabolite mko_biomass_c at 0x2406e3f96d0>"
      ]
     },
     "execution_count": 20,
     "metadata": {},
     "output_type": "execute_result"
    }
   ],
   "source": [
    "new_model.metabolites.get_by_id('mko_biomass_c')"
   ]
  },
  {
   "cell_type": "code",
   "execution_count": 21,
   "metadata": {},
   "outputs": [
    {
     "name": "stdout",
     "output_type": "stream",
     "text": [
      "83\n"
     ]
    }
   ],
   "source": [
    "df_import_bio_reaction = pd.read_excel(org_name+'\\\\03_'+org_name+'_import_reaction.xlsx',sheet_name='Sheet4')\n",
    "biomass_meta = {}\n",
    "for i in range(len(df_import_bio_reaction)):\n",
    "    met_id = df_import_bio_reaction.iloc[i]['meta_ID']\n",
    "    met_sto = df_import_bio_reaction.iloc[i]['STO']\n",
    "    biomass_meta[met_id] = met_sto\n",
    "print(len(biomass_meta))\n",
    "\n",
    "biomass_rxn = cobra.Reaction('Biomass_reaction')\n",
    "biomass_rxn.name = org_full_name +' biomass reaction'\n",
    "biomass_rxn.lower_bound = 0\n",
    "biomass_rxn.upper_bound = 1000\n",
    "for meta, sto in biomass_meta.items():\n",
    "    try:\n",
    "        biomass_rxn.add_metabolites({new_model.metabolites.get_by_id(meta):sto})\n",
    "    except:\n",
    "        print(meta+' not found in new model')\n",
    "\n",
    "new_model.add_reactions([biomass_rxn])"
   ]
  },
  {
   "cell_type": "code",
   "execution_count": 22,
   "metadata": {},
   "outputs": [
    {
     "data": {
      "text/plain": [
       "83"
      ]
     },
     "execution_count": 22,
     "metadata": {},
     "output_type": "execute_result"
    }
   ],
   "source": [
    "len(new_model.reactions.get_by_id('Biomass_reaction').metabolites)"
   ]
  },
  {
   "cell_type": "code",
   "execution_count": 25,
   "metadata": {},
   "outputs": [
    {
     "data": {
      "text/html": [
       "\n",
       "        <table>\n",
       "            <tr>\n",
       "                <td><strong>Reaction identifier</strong></td><td>DM_mko_biomass_c</td>\n",
       "            </tr><tr>\n",
       "                <td><strong>Name</strong></td><td>mko_biomass demand</td>\n",
       "            </tr><tr>\n",
       "                <td><strong>Memory address</strong></td>\n",
       "                <td>0x2406e45b550</td>\n",
       "            </tr><tr>\n",
       "                <td><strong>Stoichiometry</strong></td>\n",
       "                <td>\n",
       "                    <p style='text-align:right'>mko_biomass_c --></p>\n",
       "                    <p style='text-align:right'>mko_biomass --></p>\n",
       "                </td>\n",
       "            </tr><tr>\n",
       "                <td><strong>GPR</strong></td><td></td>\n",
       "            </tr><tr>\n",
       "                <td><strong>Lower bound</strong></td><td>0</td>\n",
       "            </tr><tr>\n",
       "                <td><strong>Upper bound</strong></td><td>1000.0</td>\n",
       "            </tr>\n",
       "        </table>\n",
       "        "
      ],
      "text/plain": [
       "<Reaction DM_mko_biomass_c at 0x2406e45b550>"
      ]
     },
     "execution_count": 25,
     "metadata": {},
     "output_type": "execute_result"
    }
   ],
   "source": [
    "new_model.add_boundary(new_model.metabolites.get_by_id('mko_biomass_c'), type=\"demand\")"
   ]
  },
  {
   "cell_type": "code",
   "execution_count": 23,
   "metadata": {},
   "outputs": [],
   "source": [
    "new_model.objective = 'Biomass_reaction'"
   ]
  },
  {
   "cell_type": "code",
   "execution_count": 24,
   "metadata": {},
   "outputs": [],
   "source": [
    "new_model.compartments= {'c':'cytosol','p':'periplasm','e':'extracellular space','m':'membrane'}"
   ]
  },
  {
   "cell_type": "markdown",
   "metadata": {},
   "source": [
    "## Add exchange rxn"
   ]
  },
  {
   "cell_type": "markdown",
   "metadata": {},
   "source": [
    "### Get other model exchanges"
   ]
  },
  {
   "cell_type": "code",
   "execution_count": 10,
   "metadata": {},
   "outputs": [
    {
     "ename": "NameError",
     "evalue": "name 'mca_model' is not defined",
     "output_type": "error",
     "traceback": [
      "\u001b[1;31m---------------------------------------------------------------------------\u001b[0m",
      "\u001b[1;31mNameError\u001b[0m                                 Traceback (most recent call last)",
      "\u001b[1;32mc:\\Users\\lix\\Documents\\GitHub\\BuildGEM\\3_Building_model.ipynb 单元格 66\u001b[0m line \u001b[0;36m1\n\u001b[1;32m----> <a href='vscode-notebook-cell:/c%3A/Users/lix/Documents/GitHub/BuildGEM/3_Building_model.ipynb#Y120sZmlsZQ%3D%3D?line=0'>1</a>\u001b[0m \u001b[39mfor\u001b[39;00m rxn \u001b[39min\u001b[39;00m mca_model\u001b[39m.\u001b[39mexchanges:\n\u001b[0;32m      <a href='vscode-notebook-cell:/c%3A/Users/lix/Documents/GitHub/BuildGEM/3_Building_model.ipynb#Y120sZmlsZQ%3D%3D?line=1'>2</a>\u001b[0m     \u001b[39mprint\u001b[39m(rxn\u001b[39m.\u001b[39mid,\u001b[39m'\u001b[39m\u001b[39m\\t\u001b[39;00m\u001b[39m'\u001b[39m,rxn\u001b[39m.\u001b[39mname,\u001b[39m'\u001b[39m\u001b[39m\\t\u001b[39;00m\u001b[39m'\u001b[39m,rxn\u001b[39m.\u001b[39mreaction)\n",
      "\u001b[1;31mNameError\u001b[0m: name 'mca_model' is not defined"
     ]
    }
   ],
   "source": [
    "for rxn in mca_model.exchanges:\n",
    "    print(rxn.id,'\\t',rxn.name,'\\t',rxn.reaction)"
   ]
  },
  {
   "cell_type": "code",
   "execution_count": null,
   "metadata": {},
   "outputs": [
    {
     "name": "stdout",
     "output_type": "stream",
     "text": [
      "Ex_succ_c \t succ exchange \t succ_c --> \n"
     ]
    }
   ],
   "source": [
    "for rxnn in GB1_model.exchanges:\n",
    "    print(rxnn.id,'\\t',rxnn.name,'\\t',rxnn.reaction)"
   ]
  },
  {
   "cell_type": "markdown",
   "metadata": {},
   "source": [
    "### Add EX reactions"
   ]
  },
  {
   "cell_type": "code",
   "execution_count": 26,
   "metadata": {},
   "outputs": [],
   "source": [
    "met_e = []\n",
    "for met in new_model.metabolites:\n",
    "    if met.id.endswith('_e'):\n",
    "        new_model.add_boundary(met, type=\"exchange\")\n",
    "        #print(met.id)"
   ]
  },
  {
   "cell_type": "code",
   "execution_count": 27,
   "metadata": {},
   "outputs": [],
   "source": [
    "new_model.reactions.EX_meoh_e.lower_bound = 0\n",
    "new_model.reactions.EX_pyr_e.lower_bound = 0\n",
    "new_model.reactions.EX_ac_e.lower_bound = 0\n",
    "new_model.reactions.EX_for_e.lower_bound = 0\n",
    "new_model.reactions.EX_lac__D_e.lower_bound = 0\n",
    "new_model.reactions.EX_succ_e.lower_bound = 0\n",
    "new_model.reactions.EX_glyc_e.lower_bound = 0\n",
    "new_model.reactions.EX_no2_e.lower_bound = 0\n",
    "new_model.reactions.EX_n2o_e.lower_bound = 0\n",
    "new_model.reactions.EX_no_e.lower_bound = 0\n",
    "new_model.reactions.EX_nh4_e.lower_bound = 0"
   ]
  },
  {
   "cell_type": "code",
   "execution_count": 28,
   "metadata": {},
   "outputs": [],
   "source": [
    "new_model.reactions.EX_ch4_e.lower_bound = -30\n",
    "new_model.reactions.EX_ch4_e.upper_bound = 0\n",
    "new_model.reactions.EX_o2_e.lower_bound = -45\n",
    "new_model.reactions.EX_o2_e.upper_bound = -35"
   ]
  },
  {
   "cell_type": "code",
   "execution_count": 30,
   "metadata": {},
   "outputs": [
    {
     "name": "stdout",
     "output_type": "stream",
     "text": [
      "EX_no3_e \t Nitrate exchange \t no3_e <=> \n",
      "EX_no2_e \t Nitrite exchange \t no2_e --> \n",
      "EX_n2o_e \t Nitrous oxide exchange \t n2o_e --> \n",
      "EX_no_e \t Nitric oxide exchange \t no_e --> \n",
      "EX_h2o_e \t H2O exchange \t h2o_e <=> \n",
      "EX_h_e \t H+ exchange \t h_e <=> \n",
      "EX_n2_e \t Nitrogen exchange \t n2_e <=> \n",
      "EX_for_e \t Formate exchange \t for_e --> \n",
      "EX_pi_e \t Phosphate exchange \t pi_e <=> \n",
      "EX_o2_e \t O2 exchange \t o2_e <-- \n",
      "EX_nh4_e \t Ammonium exchange \t nh4_e --> \n",
      "EX_co2_e \t CO2 exchange \t co2_e <=> \n",
      "EX_ch4_e \t Methane exchange \t ch4_e <-- \n",
      "EX_pyr_e \t Pyruvate exchange \t pyr_e --> \n",
      "EX_meoh_e \t Methanol exchange \t meoh_e --> \n",
      "EX_ac_e \t Acetate exchange \t ac_e --> \n",
      "EX_succ_e \t Succinate exchange \t succ_e --> \n",
      "EX_lac__D_e \t D-Lactate exchange \t lac__D_e --> \n",
      "EX_glyc_e \t Glycerol exchange \t glyc_e --> \n",
      "EX_mg2_e \t Magnesium exchange \t mg2_e <=> \n",
      "EX_ca2_e \t Calcium exchange \t ca2_e <=> \n",
      "EX_h2_e \t Hydrogen exchange \t h2_e <=> \n",
      "EX_cobalt2_e \t Co2+ exchange \t cobalt2_e <=> \n",
      "EX_cu2_e \t Copper exchange \t cu2_e <=> \n",
      "EX_fe2_e \t Fe2+ mitochondria exchange \t fe2_e <=> \n"
     ]
    }
   ],
   "source": [
    "for rr in new_model.exchanges:\n",
    "    print(rr.id,'\\t',rr.name,'\\t',rr.reaction)"
   ]
  },
  {
   "cell_type": "code",
   "execution_count": 31,
   "metadata": {},
   "outputs": [],
   "source": [
    "cobra.io.write_sbml_model(new_model, org_name+'\\\\07_'+org_name+'_biomass_model.xml')\n",
    "cobra.io.save_json_model(new_model, org_name+'\\\\07_'+org_name+'_biomass_model.json')"
   ]
  },
  {
   "cell_type": "markdown",
   "metadata": {},
   "source": [
    "## Add sink rxn"
   ]
  },
  {
   "cell_type": "code",
   "execution_count": null,
   "metadata": {},
   "outputs": [],
   "source": [
    "meta_list = [\"amp_c\",\"CPC161161_c\",\"cys__L_c\",\"datp_c\",\"sql_c\",\"dgtp_c\",\"CPC161140_c\",\"udcpp_c\",\"thr__L_c\",\"CPC160161_c\",\"ile__L_c\",\"his__L_c\",\"leu__L_c\",\"dctp_c\",\"nad_c\",\"met__L_c\"]\n",
    "for meta in meta_list:\n",
    "    new_model.add_boundary(new_model.metabolites.get_by_id(meta), type=\"sink\")\n",
    "    new_model.reactions.get_by_id('SK_'+meta).upper_bound = 0"
   ]
  },
  {
   "cell_type": "code",
   "execution_count": null,
   "metadata": {},
   "outputs": [
    {
     "name": "stdout",
     "output_type": "stream",
     "text": [
      "udcpp_c is useful\n",
      "uagmda_c is useful\n",
      "udcpdp_c is useful\n",
      "uaagmda_c is useful\n"
     ]
    }
   ],
   "source": [
    "for check_mete in new_model.metabolites:\n",
    "    try:\n",
    "        new_model.add_boundary(check_mete, type=\"sink\")\n",
    "    except:\n",
    "        continue\n",
    "    new_model.reactions.get_by_id('SK_'+check_mete.id).upper_bound = 0\n",
    "    b= new_model.optimize()\n",
    "    if b.objective_value > 0.001:\n",
    "        print(check_mete.id+' is useful')\n",
    "    new_model.remove_reactions([new_model.reactions.get_by_id('SK_'+check_mete.id)])\n"
   ]
  },
  {
   "cell_type": "code",
   "execution_count": null,
   "metadata": {},
   "outputs": [],
   "source": [
    "cobra.io.write_sbml_model(new_model, org_name+'\\\\08_'+org_name+'_complete_model_V1.xml')\n",
    "cobra.io.save_json_model(new_model, org_name+'\\\\08_'+org_name+'_complete_model_V1.json')"
   ]
  },
  {
   "attachments": {},
   "cell_type": "markdown",
   "metadata": {},
   "source": [
    "## Export model"
   ]
  },
  {
   "cell_type": "code",
   "execution_count": null,
   "metadata": {},
   "outputs": [],
   "source": [
    "import pandas as pd\n",
    "df_reaction = pd.DataFrame(columns=['ID','Name','Reaction','Pathway'])\n",
    "for rxn in new_model.reactions:\n",
    "    df_reaction.loc[len(df_reaction)] = [rxn.id,rxn.name,rxn.reaction,K2B.get_pathway_from_bigg(rxn.id)]\n",
    "df_reaction.to_excel(org_name+'\\\\'+org_name+'_export_reaction_full.xlsx',index=False)\n"
   ]
  },
  {
   "cell_type": "code",
   "execution_count": 32,
   "metadata": {},
   "outputs": [
    {
     "data": {
      "text/html": [
       "<h3>Objective</h3><p>1.0 Biomass_reaction = 0.0</p><h4>Uptake</h4><table border=\"1\" class=\"dataframe\">\n",
       "  <thead>\n",
       "    <tr style=\"text-align: right;\">\n",
       "      <th>Metabolite</th>\n",
       "      <th>Reaction</th>\n",
       "      <th>Flux</th>\n",
       "      <th>C-Number</th>\n",
       "      <th>C-Flux</th>\n",
       "    </tr>\n",
       "  </thead>\n",
       "  <tbody>\n",
       "    <tr>\n",
       "      <td>ch4_e</td>\n",
       "      <td>EX_ch4_e</td>\n",
       "      <td>30</td>\n",
       "      <td>1</td>\n",
       "      <td>100.00%</td>\n",
       "    </tr>\n",
       "    <tr>\n",
       "      <td>no3_e</td>\n",
       "      <td>EX_no3_e</td>\n",
       "      <td>11.43</td>\n",
       "      <td>0</td>\n",
       "      <td>0.00%</td>\n",
       "    </tr>\n",
       "    <tr>\n",
       "      <td>o2_e</td>\n",
       "      <td>EX_o2_e</td>\n",
       "      <td>35</td>\n",
       "      <td>0</td>\n",
       "      <td>0.00%</td>\n",
       "    </tr>\n",
       "  </tbody>\n",
       "</table><h4>Secretion</h4><table border=\"1\" class=\"dataframe\">\n",
       "  <thead>\n",
       "    <tr style=\"text-align: right;\">\n",
       "      <th>Metabolite</th>\n",
       "      <th>Reaction</th>\n",
       "      <th>Flux</th>\n",
       "      <th>C-Number</th>\n",
       "      <th>C-Flux</th>\n",
       "    </tr>\n",
       "  </thead>\n",
       "  <tbody>\n",
       "    <tr>\n",
       "      <td>co2_e</td>\n",
       "      <td>EX_co2_e</td>\n",
       "      <td>-20</td>\n",
       "      <td>1</td>\n",
       "      <td>66.67%</td>\n",
       "    </tr>\n",
       "    <tr>\n",
       "      <td>h2o_e</td>\n",
       "      <td>EX_h2o_e</td>\n",
       "      <td>-48.57</td>\n",
       "      <td>0</td>\n",
       "      <td>0.00%</td>\n",
       "    </tr>\n",
       "    <tr>\n",
       "      <td>meoh_e</td>\n",
       "      <td>EX_meoh_e</td>\n",
       "      <td>-10</td>\n",
       "      <td>1</td>\n",
       "      <td>33.33%</td>\n",
       "    </tr>\n",
       "    <tr>\n",
       "      <td>n2o_e</td>\n",
       "      <td>EX_n2o_e</td>\n",
       "      <td>-5.714</td>\n",
       "      <td>0</td>\n",
       "      <td>0.00%</td>\n",
       "    </tr>\n",
       "  </tbody>\n",
       "</table>"
      ],
      "text/plain": [
       "<cobra.summary.model_summary.ModelSummary at 0x2406ffe3760>"
      ]
     },
     "execution_count": 32,
     "metadata": {},
     "output_type": "execute_result"
    }
   ],
   "source": [
    "new_model.summary()"
   ]
  }
 ],
 "metadata": {
  "kernelspec": {
   "display_name": "Python 3",
   "language": "python",
   "name": "python3"
  },
  "language_info": {
   "codemirror_mode": {
    "name": "ipython",
    "version": 3
   },
   "file_extension": ".py",
   "mimetype": "text/x-python",
   "name": "python",
   "nbconvert_exporter": "python",
   "pygments_lexer": "ipython3",
   "version": "3.9.11"
  },
  "orig_nbformat": 4,
  "vscode": {
   "interpreter": {
    "hash": "0ebaef18ecaed89bf919d0c05a5b4cceb1182cf69e720ac80a3131e01f215f13"
   }
  }
 },
 "nbformat": 4,
 "nbformat_minor": 2
}
