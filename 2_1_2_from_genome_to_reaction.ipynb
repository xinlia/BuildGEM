{
 "cells": [
  {
   "attachments": {},
   "cell_type": "markdown",
   "metadata": {},
   "source": [
    "### download genome\n",
    "\n",
    "Methylomonas koyamae (702114) https://www.ncbi.nlm.nih.gov/data-hub/genome/GCF_019669905.1/\n",
    "\n",
    "Methylocystis bryophila (655015)  https://www.ncbi.nlm.nih.gov/labs/data-hub/genome/GCA_027925445.1/\n",
    "\n"
   ]
  },
  {
   "attachments": {},
   "cell_type": "markdown",
   "metadata": {},
   "source": [
    "### BLAST to KEGG\n",
    "\n",
    "upload faa to https://www.kegg.jp/blastkoala/ and blast\n",
    "\n",
    "After get the result, download the Annotation data (ko/gene list)\n",
    "\n",
    "\n",
    "  mko  https://www.kegg.jp/kegg-bin/blastkoala_result?id=0df04f64e581872e44cd9b8a9be22867c93f59aa&passwd=zMR0tc&type=blastkoala\n",
    "\n",
    "  mbry  https://www.kegg.jp/kegg-bin/blastkoala_result?id=35e8add9b98750b908462bce998b922dbc9796bc&passwd=bhYh8N&type=blastkoala\n",
    "\n",
    "  Thauera amino http://www.kegg.jp/kegg-bin/blastkoala_result?id=9e5b913ee40a8b507751260318dff90795b44d10&passwd=caEnuM&type=blastkoala\n"
   ]
  },
  {
   "attachments": {},
   "cell_type": "markdown",
   "metadata": {},
   "source": [
    "### KO to Reaction to ModlSEED"
   ]
  },
  {
   "cell_type": "code",
   "execution_count": 3,
   "metadata": {},
   "outputs": [
    {
     "name": "stdout",
     "output_type": "stream",
     "text": [
      "Find 1551 ko, mapping to 517 KEGG reactions and 484 ModelSeed reactions\n"
     ]
    }
   ],
   "source": [
    "import pandas as pd\n",
    "org_name = 'mbry'\n",
    "org_full_name = 'Methylocystis_bryophila'\n",
    "with open(org_full_name+'_genome\\\\user_ko.txt','r+') as f:\n",
    "    content = f.read()\n",
    "    if not content.startswith('gene\\tko'):\n",
    "        f.seek(0,0)\n",
    "        f.write('gene\\tko\\n'+content)\n",
    "f.close\n",
    "ko_R_ms_DB = pd.read_csv('KEGG_ko_R_DB.txt',sep='\\t')\n",
    "KEGGblast = pd.read_csv(org_full_name+'_genome\\\\user_ko.txt', sep='\\t').dropna(how='any')\n",
    "ko_list = KEGGblast.loc[:,['ko']].drop_duplicates(subset='ko')\n",
    "mapping_ko_reaction = pd.merge(ko_list,ko_R_ms_DB,how='left',on='ko').drop_duplicates(subset='ko')\n",
    "rxn_list = mapping_ko_reaction.loc[:,['rxn']].drop_duplicates(subset='rxn').dropna(how='any')\n",
    "ms_rxn_list = mapping_ko_reaction.loc[:,['ModelSeed_ID']].drop_duplicates(subset='ModelSeed_ID').dropna(how='any')\n",
    "print('Find %d ko, mapping to %d KEGG reactions and %d ModelSeed reactions'%(len(ko_list),len(rxn_list),len(ms_rxn_list)))"
   ]
  },
  {
   "cell_type": "code",
   "execution_count": 2,
   "metadata": {},
   "outputs": [],
   "source": [
    "mapping_ko_reaction = pd.merge(ko_list,ko_R_ms_DB,how='left',on='ko').drop_duplicates(subset='ko')"
   ]
  }
 ],
 "metadata": {
  "kernelspec": {
   "display_name": "Python 3",
   "language": "python",
   "name": "python3"
  },
  "language_info": {
   "codemirror_mode": {
    "name": "ipython",
    "version": 3
   },
   "file_extension": ".py",
   "mimetype": "text/x-python",
   "name": "python",
   "nbconvert_exporter": "python",
   "pygments_lexer": "ipython3",
   "version": "3.9.8"
  },
  "orig_nbformat": 4
 },
 "nbformat": 4,
 "nbformat_minor": 2
}
